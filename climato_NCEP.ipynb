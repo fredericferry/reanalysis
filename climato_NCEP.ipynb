{
 "cells": [
  {
   "cell_type": "markdown",
   "metadata": {},
   "source": [
    "# Climatologies de l'atmosphère à partir de réanalyses météorologiques\n",
    "\n",
    "Auteur : FERRY Frédéric (DESR/ENM/C3M) - septembre 2021\n",
    "\n",
    "L’objectif de ces activités Python est de mettre en évidence les grands traits de la circulation générale atmosphérique à travers l’étude de climatologies saisonnières des principaux paramètres atmosphériques : température, vent, pression, géopotentiel, humidité, précipitations. On exploitera pour cela des réanalyses météorologiques qui combinent des observations et le résultat de modèles numériques afin de constituer la meilleure connaissance possible de l’état de l'atmosphère, sur un domaine global, pour une date et une heure données. Les réanalyses utilisées ici sont celles du NCEP/NCAR (période 1948-présent, résolution horizontale de 2.5x2.5°, 17 niveaux pression sur la verticale).\n",
    "\n",
    "Les fichiers de données au format netcdf (moyennes mensuelles NCEP/NCAR) doivent être téléchargés et placés dans le répertoire data :\n",
    "\n",
    "Géopotentiel, température, vent zonal, vent méridien, vitesse verticale, humidité spécifique :\n",
    "- ftp://ftp.cdc.noaa.gov/Projects/Datasets/ncep.reanalysis.derived/pressure/hgt.mon.mean.nc\n",
    "- ftp://ftp.cdc.noaa.gov/Projects/Datasets/ncep.reanalysis.derived/pressure/air.mon.mean.nc\n",
    "- ftp://ftp.cdc.noaa.gov/Projects/Datasets/ncep.reanalysis.derived/pressure/uwnd.mon.mean.nc\n",
    "- ftp://ftp.cdc.noaa.gov/Projects/Datasets/ncep.reanalysis.derived/pressure/vwnd.mon.mean.nc\n",
    "- ftp://ftp.cdc.noaa.gov/Projects/Datasets/ncep.reanalysis.derived/pressure/omega.mon.mean.nc\n",
    "- ftp://ftp.cdc.noaa.gov/Projects/Datasets/ncep.reanalysis.derived/pressure/shum.mon.mean.nc\n",
    "\n",
    "Pression réduite au niveau de la mer, pression de surface, température à 2m, eau précipitable :\n",
    "- ftp://ftp.cdc.noaa.gov/Projects/Datasets/ncep.reanalysis.derived/surface/slp.mon.mean.nc\n",
    "- ftp://ftp.cdc.noaa.gov/Projects/Datasets/ncep.reanalysis.derived/surface/pres.sfc.mon.mean\n",
    "- ftp://ftp.cdc.noaa.gov/Projects/Datasets/ncep.reanalysis.derived/surface/pres.sfc.mon.mean.nc\n",
    "- ftp://ftp.cdc.noaa.gov/Projects/Datasets/ncep.reanalysis.derived/surface_gauss/air.2m.mon.mean.nc\n",
    "- ftp://ftp.cdc.noaa.gov/Projects/Datasets/ncep.reanalysis.derived/surface/pr_wtr.eatm.mon.mean.nc\n",
    "\n",
    "Précipitations :\n",
    "- ftp://ftp.cdc.noaa.gov/Datasets/gpcp/precip.mon.mean.nc\n",
    "\n",
    "Concepts Python illustrés :\n",
    "- Exploitation de donnnées météorologiques au format netcdf (xarray)\n",
    "- Calcul de climatologies saisonnières (xarray)\n",
    "- Tracé de cartes (cartopy)\n",
    "- Tracé de coupes et profils (matplotlib)\n",
    "- Réalisation d'animation (PIL)"
   ]
  },
  {
   "cell_type": "markdown",
   "metadata": {},
   "source": [
    "<div class=\"alert alert-warning\">\n",
    "<b>Instructions : </b>\n",
    "<p><b>1) </b>Exécuter les cellules qui suivent de façon séquentielle</p>\n",
    "<p><b>2) </b>Répondre aux questions (cadres de couleur jaune) dans les parties dédiées (cadres de couleur verte)</p>\n",
    "<p><b>3) </b>Sauvegarder le notebook final au format pdf</p>\n",
    "</div>"
   ]
  },
  {
   "cell_type": "code",
   "execution_count": null,
   "metadata": {},
   "outputs": [],
   "source": [
    "# figures interactives dans le notebook\n",
    "#%matplotlib notebook\n",
    "\n",
    "# figures non interactives dans le notebook\n",
    "%matplotlib inline\n",
    "\n",
    "import os\n",
    "\n",
    "import xarray as xr\n",
    "import numpy as np\n",
    "import netCDF4\n",
    "\n",
    "import matplotlib.pyplot as plt\n",
    "from matplotlib.ticker import ScalarFormatter\n",
    "from mpl_toolkits.axes_grid1 import AxesGrid\n",
    "import matplotlib.path as mpath\n",
    "\n",
    "from cartopy.util import add_cyclic_point\n",
    "import cartopy.crs as ccrs\n",
    "from cartopy.mpl.geoaxes import GeoAxes\n",
    "from cartopy.mpl.ticker import LongitudeFormatter, LatitudeFormatter\n",
    "\n",
    "import IPython.display as IPdisplay, matplotlib.font_manager as fm\n",
    "from PIL import Image\n",
    "import glob\n",
    "\n",
    "import warnings\n",
    "warnings.filterwarnings('ignore')"
   ]
  },
  {
   "cell_type": "markdown",
   "metadata": {},
   "source": [
    "# Traitement des données"
   ]
  },
  {
   "cell_type": "raw",
   "metadata": {},
   "source": [
    "Choix des années pour les calculs de climatologies."
   ]
  },
  {
   "cell_type": "code",
   "execution_count": null,
   "metadata": {},
   "outputs": [],
   "source": [
    "year1='1990'\n",
    "year2='2019'"
   ]
  },
  {
   "cell_type": "raw",
   "metadata": {},
   "source": [
    "Lecture des données netcdf avec xarray."
   ]
  },
  {
   "cell_type": "code",
   "execution_count": null,
   "metadata": {
    "scrolled": false
   },
   "outputs": [],
   "source": [
    "diri=\"./data/\"\n",
    "\n",
    "# z, T, u, v, w, q\n",
    "fz    = xr.open_dataset(diri+\"hgt.mon.mean.nc\").sel(time=slice(year1,year2))\n",
    "ft    = xr.open_dataset(diri+\"air.mon.mean.nc\").sel(time=slice(year1,year2))+273.15\n",
    "fu    = xr.open_dataset(diri+\"uwnd.mon.mean.nc\").sel(time=slice(year1,year2))\n",
    "fv    = xr.open_dataset(diri+\"vwnd.mon.mean.nc\").sel(time=slice(year1,year2))\n",
    "fw    = xr.open_dataset(diri+\"omega.mon.mean.nc\").sel(time=slice(year1,year2))\n",
    "fq    = xr.open_dataset(diri+\"shum.mon.mean.nc\").sel(time=slice(year1,year2))/1000\n",
    "\n",
    "# precip, MSLP, T2m, PW\n",
    "fpr = xr.open_dataset(diri+\"precip.mon.mean.nc\").sel(time=slice(year1,year2))\n",
    "fp    = xr.open_dataset(diri+\"slp.mon.mean.nc\").sel(time=slice(year1,year2))\n",
    "fps    = xr.open_dataset(diri+\"pres.sfc.mon.mean.nc\").sel(time=slice(year1,year2))\n",
    "ft2m  = xr.open_dataset(diri+\"air2m.mon.mean.nc\").sel(time=slice(year1,year2))\n",
    "fpw   = xr.open_dataset(diri+\"pr_wtr.mon.mean.nc\").sel(time=slice(year1,year2))\n",
    "\n",
    "# Température moyenne de la couche 1000-500hPa\n",
    "ftavg    = xr.open_dataset(diri+\"air.mon.mean.nc\").sel(time=slice(year1,year2)).sel(level=slice(1000,500)).mean('level')+273.15\n",
    "\n",
    "# Latitudes, niveaux verticaux\n",
    "lat  = ft.lat.values\n",
    "lat_t2m  = ft2m.lat.values\n",
    "lat_pr  = fpr.lat.values\n",
    "lat_pw  = fpw.lat.values\n",
    "lat_ps  = fps.lat.values\n",
    "\n",
    "lev = fz.level.values\n",
    "levw = fw.level.values\n",
    "levq = fq.level.values\n",
    "\n",
    "print(ft)\n",
    "print(fw)"
   ]
  },
  {
   "cell_type": "raw",
   "metadata": {},
   "source": [
    "Calcul des climatologies et extraction des variables."
   ]
  },
  {
   "cell_type": "code",
   "execution_count": null,
   "metadata": {
    "scrolled": true
   },
   "outputs": [],
   "source": [
    "seasons=['DJF','JJA','MAM','SON']\n",
    "months=['Jan','Feb','Mar','Apr', 'May', 'Jun', 'Jul', 'Aug', 'Sep', 'Oct', 'Nov', 'Dec']\n",
    "\n",
    "# z, T, u, v, w, q\n",
    "fz_mean = fz.groupby('time.season').mean('time')\n",
    "ft_mean = ft.groupby('time.season').mean('time')\n",
    "fu_mean = fu.groupby('time.season').mean('time')\n",
    "fv_mean = fv.groupby('time.season').mean('time')\n",
    "fw_mean = fw.groupby('time.season').mean('time')\n",
    "fq_mean = fq.groupby('time.season').mean('time')\n",
    "\n",
    "# precip, MSLP, T2m, PW\n",
    "fpr_mean = fpr.groupby('time.season').mean('time')\n",
    "fps_mean = fps.groupby('time.season').mean('time')\n",
    "fpr_mean_month = fpr.groupby('time.month').mean('time')\n",
    "\n",
    "fp_mean = fp.groupby('time.season').mean('time')\n",
    "ft2m_mean = ft2m.groupby('time.season').mean('time')\n",
    "fpw_mean = fpw.groupby('time.season').mean('time')\n",
    "\n",
    "# Température moyenne 1000-500hPa\n",
    "ftavg_mean = ftavg.groupby('time.season').mean('time')\n",
    "\n",
    "# Variables\n",
    "z0 = fz_mean['hgt']\n",
    "t0 = ft_mean['air']\n",
    "u0 = fu_mean['uwnd']\n",
    "v0 = fv_mean['vwnd']\n",
    "w = fw_mean['omega']\n",
    "q0 = fq_mean['shum']*1000\n",
    "pr0 = fpr_mean['precip']\n",
    "pr0_month = fpr_mean_month['precip']\n",
    "\n",
    "p0 = fp_mean['slp']\n",
    "pres0 = fps_mean['pres']/100\n",
    "t2m0 = ft2m_mean['air']\n",
    "pw0 = fpw_mean['pr_wtr']\n",
    "tavg0 = ftavg_mean['air']\n",
    "\n",
    "print(z0.shape) # saison,niveau,lat,lon\n",
    "print(p0.shape) # saison,lat,lon\n",
    "print(pr0_month.shape) # mois,lat,lon"
   ]
  },
  {
   "cell_type": "raw",
   "metadata": {},
   "source": [
    "Calcul des moyennnes zonales (z, t, u, v, w, mslp, theta, q) et des moyennes zonales et verticales (t, u)."
   ]
  },
  {
   "cell_type": "code",
   "execution_count": null,
   "metadata": {
    "scrolled": true
   },
   "outputs": [],
   "source": [
    "# Moyennes zonales (z, T, u, v, w, q, MSLP)\n",
    "zz = z0.mean(axis=3)\n",
    "tz = t0.mean(axis=3)\n",
    "uz = u0.mean(axis=3)\n",
    "vz = v0.mean(axis=3)\n",
    "wz = w.mean(axis=3)\n",
    "qz = q0.mean(axis=3)\n",
    "\n",
    "pz = p0.mean(axis=2)\n",
    "pz_annual = pz.mean(axis=0)\n",
    "\n",
    "# Moyennes verticales 1000-100 hPa (T, u)\n",
    "plev1=1000\n",
    "plev2=100\n",
    "iplev1 = list(lev).index(plev1)\n",
    "iplev2 = list(lev).index(plev2)\n",
    "t_vavg = tz[:,iplev1:iplev2,:].mean(axis=1)\n",
    "t_vavg_annual = t_vavg.mean(axis=0)\n",
    "u_vavg = uz[:,iplev1:iplev2,:].mean(axis=1)\n",
    "u_vavg_annual = u_vavg.mean(axis=0)\n",
    "\n",
    "print(zz.shape) # saison,niveau,lat\n",
    "print(pz.shape) # saison,lat\n",
    "print(u_vavg.shape) # saison,lat\n",
    "print(pz_annual.shape) # lat\n",
    "print(u_vavg_annual.shape) # lat\n",
    "\n",
    "# Moyennes annuelles pour uz, vz wz\n",
    "uz_annual=np.mean(uz, axis=0)\n",
    "vz_annual=np.mean(vz, axis=0)\n",
    "wz_annual=np.mean(wz, axis=0)\n",
    "\n",
    "print(uz_annual.shape) # level,lat"
   ]
  },
  {
   "cell_type": "raw",
   "metadata": {},
   "source": [
    "Fonction de conversion des longitudes 0 - 360 en -180 - 180."
   ]
  },
  {
   "cell_type": "code",
   "execution_count": null,
   "metadata": {
    "scrolled": true
   },
   "outputs": [],
   "source": [
    "def lonflip(da):\n",
    "    lon_name = 'lon'\n",
    "    da['_longitude_adjusted'] = xr.where(\n",
    "        da[lon_name] > 180,\n",
    "        da[ lon_name] - 360,\n",
    "        da[lon_name])\n",
    "    da = (\n",
    "        da\n",
    "        .swap_dims({lon_name: '_longitude_adjusted'})\n",
    "        .sel(**{'_longitude_adjusted': sorted(da._longitude_adjusted)})\n",
    "        .drop(lon_name))\n",
    "    da = da.rename({'_longitude_adjusted': lon_name})\n",
    "    return da"
   ]
  },
  {
   "cell_type": "raw",
   "metadata": {},
   "source": [
    "Conversion des longitudes de 0 à 360 en -180 à 180 (z, t, u, v, tavg, precip, pw, pmer, t2m)."
   ]
  },
  {
   "cell_type": "code",
   "execution_count": null,
   "metadata": {
    "scrolled": true
   },
   "outputs": [],
   "source": [
    "z=lonflip(z0)\n",
    "\n",
    "uu=lonflip(u0)\n",
    "vv=lonflip(v0)\n",
    "t=lonflip(t0)\n",
    "q=lonflip(q0)\n",
    "\n",
    "tavg=lonflip(tavg0)\n",
    "\n",
    "pr=lonflip(pr0)\n",
    "pr_month=lonflip(pr0_month)\n",
    "\n",
    "p=lonflip(p0)\n",
    "pres=lonflip(pres0)\n",
    "t2m=lonflip(t2m0)\n",
    "pw=lonflip(pw0)\n",
    "\n",
    "# Longitudes\n",
    "lon  = z.lon.values\n",
    "lon_ps  = pres.lon.values\n",
    "lon_pr  = pr.lon.values\n",
    "lon_pw  = pw.lon.values\n",
    "lon_t2m  = t2m.lon.values\n",
    "print(lon)\n",
    "\n",
    "# Conversion de u et v en numpy array pour tracé des vecteurs vent (sinon bug)\n",
    "u=np.array(uu)\n",
    "v=np.array(vv)"
   ]
  },
  {
   "cell_type": "raw",
   "metadata": {},
   "source": [
    "Calcul de la climatologie de l'épaisseur Z500 - Z1000."
   ]
  },
  {
   "cell_type": "code",
   "execution_count": null,
   "metadata": {
    "scrolled": true
   },
   "outputs": [],
   "source": [
    "plevz1=1000\n",
    "plevz2=500\n",
    "ilev1 = list(lev).index(plevz1)\n",
    "ilev2 = list(lev).index(plevz2)\n",
    "\n",
    "z1 = z[:,ilev1,:,:]\n",
    "z2 = z[:,ilev2,:,:]\n",
    "dz = z2 - z1\n",
    "\n",
    "print(np.min(dz))\n",
    "print(np.max(dz))"
   ]
  },
  {
   "cell_type": "markdown",
   "metadata": {},
   "source": [
    "# Fonctions graphiques"
   ]
  },
  {
   "cell_type": "raw",
   "metadata": {},
   "source": [
    "Fonctions pour les coupes verticales-méridiennes en moyenne zonale."
   ]
  },
  {
   "cell_type": "code",
   "execution_count": null,
   "metadata": {
    "scrolled": false
   },
   "outputs": [],
   "source": [
    "# on s'arrête à 100hPa sur la varticale\n",
    "def plot_zonal_mean(ax):\n",
    "    ax.set_yscale('symlog')\n",
    "    ax.set_ylim(1000, 100)\n",
    "    ax.set_xticks(np.arange(-90, 120, 30))\n",
    "    ax.set_yticks(np.arange(1000, 0, -100))\n",
    "    ax.tick_params(labelsize=8)\n",
    "    ax.yaxis.set_major_formatter(ScalarFormatter())\n",
    "    ax.set_xlabel('Latitude')\n",
    "    ax.set_ylabel('Pressure level')\n",
    "    return ax\n",
    "\n",
    "# on s'arrête à 10hPa sur la verticale\n",
    "def plot_zonal_mean2(ax):\n",
    "    ax.set_yscale('symlog')\n",
    "    ax.set_ylim(1000, 10)\n",
    "    ax.set_xticks(np.arange(-90, 120, 30))\n",
    "    ax.set_yticks(np.arange(1000, 0, -100))\n",
    "    ax.tick_params(labelsize=8)\n",
    "    ax.yaxis.set_major_formatter(ScalarFormatter())\n",
    "    ax.set_xlabel('Latitude')\n",
    "    ax.set_ylabel('Pressure level')\n",
    "    return ax"
   ]
  },
  {
   "cell_type": "raw",
   "metadata": {},
   "source": [
    "Fonction pour les cartes globales."
   ]
  },
  {
   "cell_type": "code",
   "execution_count": null,
   "metadata": {
    "scrolled": false
   },
   "outputs": [],
   "source": [
    "#proj=ccrs.PlateCarree()\n",
    "proj=ccrs.EqualEarth()\n",
    "\n",
    "def plot_background(ax):\n",
    "    ax.coastlines()\n",
    "    ax.gridlines(crs=ccrs.PlateCarree(), linewidth=0.5, color='gray', alpha=0.5, linestyle='-')\n",
    "    return ax"
   ]
  },
  {
   "cell_type": "raw",
   "metadata": {},
   "source": [
    "Echelles de valeurs."
   ]
  },
  {
   "cell_type": "code",
   "execution_count": null,
   "metadata": {
    "scrolled": true
   },
   "outputs": [],
   "source": [
    "# cartes isobares z, t, u\n",
    "levels_z = np.arange(10500,12800,100)\n",
    "levels_t = np.arange(220,312,2)\n",
    "levels_u = np.arange(-50,55,5)\n",
    "\n",
    "# cartes épaisseurs et température moyenne\n",
    "levels_dz = np.arange(4500,6050,50)\n",
    "levels_tavg = np.arange(220,315,5)\n",
    "\n",
    "# cartes en moyenne zonale z, t, u, w, v, q\n",
    "levels_zz = np.arange(0,21000,1000)\n",
    "levels_tz = np.arange(180,320,10)\n",
    "levels_uz = np.arange(-50,52.5,2.5)\n",
    "levels_uz_an = np.arange(0,55,5)\n",
    "levels_wz = np.arange(-0.05,0.052,0.002)\n",
    "levels_vz =[-7.0, -6.5, -6.0, -5.5, -5.0, -4.5, -4.0, -3.5, -3.0,\n",
    " -2.5, -2.0, -1.5, -1.0, -0.5, 0.5, 1.0, 1.5, 2.0, 2.5,\n",
    "  3.0, 3.5, 4.0, 4.5, 5.0, 5.5, 6.0, 6.5, 7]\n",
    "levels_qz = np.arange(0,20,1)\n",
    "\n",
    "# cartes horizontales T2m, MSLP, précip, PW\n",
    "levels_t2m = np.arange(200,322,2)\n",
    "levels_p = np.arange(970,1042,2)\n",
    "levels_ps = np.arange(500,1090,50)\n",
    "levels_pr = np.arange(0,15,1)\n",
    "levels_pw = np.arange(0,60,2.5)"
   ]
  },
  {
   "cell_type": "markdown",
   "metadata": {},
   "source": [
    "# Etude du champ de température\n",
    "\n",
    "La température caractérise l’agitation moléculaire moyenne. Elle est proportionnelle à l’énergie cinétique moyenne associée aux mouvements désordonnés des molécules dans la matière. L’unité du système international pour la température est le Kelvin (K). En météorologie on utilise très souvent le degré Celsius. Les échelles Kelvin et Celsius diffèrent uniquement par leur origine T(K) = T(°C) + 273,5."
   ]
  },
  {
   "cell_type": "raw",
   "metadata": {},
   "source": [
    "Profil méridien en moyenne zonale et verticale de la température (DJF, JJA, annuel)."
   ]
  },
  {
   "cell_type": "code",
   "execution_count": null,
   "metadata": {
    "scrolled": false
   },
   "outputs": [],
   "source": [
    "fig = plt.figure(figsize=(15,10))\n",
    "\n",
    "plt.xlabel('Latitude')\n",
    "plt.ylabel('Temperature (K)')\n",
    "#plt.xticks(np.arange(-90, 120, 30), ('90S', '60S', '30S', 'Eq', '30N', '60N', '90N'))\n",
    "plt.xticks(np.arange(-90, 120, 30))\n",
    "\n",
    "plt.title('Zonal mean temperature - '+str(plev1)+'-'+str(plev2)+ 'hPa average : NCEP '+year1+'-'+year2)\n",
    "\n",
    "plt.plot(lat, t_vavg_annual, label='Annual')\n",
    "\n",
    "for i in range(2):\n",
    "    plt.plot(lat, t_vavg[i,:], label=seasons[i])\n",
    "    plt.axvline(0, color='black', linestyle=\"--\")\n",
    "    \n",
    "figname='./figs/tavg_zmean_climatology'\n",
    "plt.savefig(figname+'.png',bbox_inches='tight')\n",
    "\n",
    "plt.legend()\n",
    "\n",
    "plt.show()"
   ]
  },
  {
   "cell_type": "markdown",
   "metadata": {},
   "source": [
    "<div class=\"alert alert-warning\">\n",
    "<b>Questions : </b>\n",
    "<p><b>1) </b> En quoi le profil méridien de température est-il cohérent avec le bilan radiatif étudié précédemment ?</p>\n",
    "<p><b>2) </b> Comparer les variations méridiennes de la température aux moyennes latitudes\n",
    " et dans les régions tropicales.</p>\n",
    "</div>"
   ]
  },
  {
   "cell_type": "markdown",
   "metadata": {},
   "source": [
    "<div class=\"alert alert-success\">\n",
    "<b>Réponses : </b>\n",
    "</div>"
   ]
  },
  {
   "cell_type": "raw",
   "metadata": {},
   "source": [
    "Profils verticaux en moyenne zonale à 10N, 30N, 45, 70N de la température (DJF, JJA)."
   ]
  },
  {
   "cell_type": "code",
   "execution_count": null,
   "metadata": {
    "scrolled": false
   },
   "outputs": [],
   "source": [
    "lats_text=[\"10N\",\"30N\",\"45N\",\"70N\"]\n",
    "ilat1 = list(lat).index(10)\n",
    "ilat2 = list(lat).index(30)\n",
    "ilat3 = list(lat).index(45)\n",
    "ilat4 = list(lat).index(70)\n",
    "\n",
    "fig = plt.figure(figsize=(15,8))\n",
    "fig.suptitle('Temperature - zonal mean : NCEP '+year1+'-'+year2, fontsize=16)\n",
    "\n",
    "plt.subplot(121)\n",
    "plt.title('DJF')\n",
    "plt.xlabel('Temperature (K)')\n",
    "plt.ylabel('Pressure level (hPa)')\n",
    "plt.yscale('log')\n",
    "plt.gca().invert_yaxis()\n",
    "plt.plot(tz[0,:,ilat1],lev, label=lats_text[0])\n",
    "plt.plot(tz[0,:,ilat2],lev, label=lats_text[1])\n",
    "plt.plot(tz[0,:,ilat3],lev, label=lats_text[2])\n",
    "plt.plot(tz[0,:,ilat4],lev, label=lats_text[3])\n",
    "plt.legend()\n",
    "\n",
    "plt.subplot(122)\n",
    "plt.title('JJA')\n",
    "plt.xlabel('Temperature (K)')\n",
    "plt.yscale('log')\n",
    "plt.gca().invert_yaxis()\n",
    "plt.plot(tz[1,:,ilat1],lev, label=lats_text[0])\n",
    "plt.plot(tz[1,:,ilat2],lev, label=lats_text[1])\n",
    "plt.plot(tz[1,:,ilat3],lev, label=lats_text[2])\n",
    "plt.plot(tz[1,:,ilat4],lev, label=lats_text[3])\n",
    "plt.legend()\n",
    "\n",
    "figname='./figs/t_zmean_profiles'\n",
    "plt.savefig(figname+'.png',bbox_inches='tight')\n",
    "\n",
    "plt.show()"
   ]
  },
  {
   "cell_type": "markdown",
   "metadata": {},
   "source": [
    "<div class=\"alert alert-warning\">\n",
    "<b>Questions : </b>\n",
    "<p><b>1) </b> Commenter la variation verticale de la température dans la troposphère.</p>\n",
    "<p><b>2) </b> Donner le niveau moyen et la température moyenne de la tropopause en zone tropicale, ainsi qu'aux latitudes moyennes et polaires.</p>\n",
    "</div>"
   ]
  },
  {
   "cell_type": "markdown",
   "metadata": {},
   "source": [
    "<div class=\"alert alert-success\">\n",
    "<b>Réponses : </b>\n",
    "</div>"
   ]
  },
  {
   "cell_type": "raw",
   "metadata": {},
   "source": [
    "Coupe verticale-méridienne en moyenne zonale de la température (DJF, JJA)."
   ]
  },
  {
   "cell_type": "code",
   "execution_count": null,
   "metadata": {
    "scrolled": false
   },
   "outputs": [],
   "source": [
    "fig, axarr = plt.subplots(nrows=2, ncols=1, figsize=(15, 15), constrained_layout=True)\n",
    "axlist = axarr.flatten()\n",
    "fig.suptitle('Temperature - zonal mean : NCEP '+year1+'-'+year2, fontsize=16)\n",
    "\n",
    "for i, ax in enumerate(axlist):\n",
    "    ax.set_title(seasons[i], fontsize=14)\n",
    "    plot_zonal_mean2(ax)\n",
    "    cf = ax.contourf(lat, lev, tz[i,:,:], levels_tz, cmap='jet', extend='both')\n",
    "    c = ax.contour(lat, lev, tz[i,:,:], levels_tz, colors='black', linewidths=1)\n",
    "    plt.clabel(c, levels_tz, fmt='%1.2i')\n",
    " \n",
    "cb = fig.colorbar(cf, ax=axlist[axlist.shape[0]-1], orientation='horizontal', shrink=0.74, pad=0)\n",
    "cb.set_label('mgp', size='small')\n",
    "\n",
    "figname='./figs/t_zmean_climatology'\n",
    "plt.savefig(figname+'.png',bbox_inches='tight')\n",
    "\n",
    "plt.show()"
   ]
  },
  {
   "cell_type": "markdown",
   "metadata": {},
   "source": [
    "<div class=\"alert alert-warning\">\n",
    "<b>Question : </b>\n",
    "<p><b>1) </b> Qu'observe-t-on dans la stratosphère polaire de l'hémisphère d'hiver. Au-dessus de quel pôle cela est-il le plus marqué ?</p>\n",
    "</div>"
   ]
  },
  {
   "cell_type": "markdown",
   "metadata": {},
   "source": [
    "<div class=\"alert alert-success\">\n",
    "<b>Réponse : </b>\n",
    "</div>"
   ]
  },
  {
   "cell_type": "raw",
   "metadata": {},
   "source": [
    "Carte globale de température à 2 mètres (DJF, JJA)."
   ]
  },
  {
   "cell_type": "code",
   "execution_count": null,
   "metadata": {
    "scrolled": false
   },
   "outputs": [],
   "source": [
    "axes_class = (GeoAxes, dict(map_projection=proj))\n",
    "fig = plt.figure(figsize=(15,15))\n",
    "fig.suptitle('Temperature (K) at 2 meters : NCEP '+year1+'-'+year2, fontsize=16)\n",
    "\n",
    "axgr = AxesGrid(fig, 111, axes_class=axes_class,\n",
    "       nrows_ncols=(2, 1),\n",
    "       axes_pad=0.6,\n",
    "       cbar_location='right',\n",
    "       cbar_mode='single',\n",
    "       cbar_pad=0.2,\n",
    "       cbar_size='3%',\n",
    "       label_mode='')  # note the empty label_mode\n",
    "                   \n",
    "for i, ax in enumerate(axgr):\n",
    "    plot_background(ax)\n",
    "    ax.set_title(seasons[i], fontsize=14)\n",
    "    cf = ax.contourf(lon_t2m, lat_t2m, t2m[i,:,:], levels_t2m, transform=ccrs.PlateCarree(), cmap='jet', extend='both')\n",
    "    c = ax.contour(lon_t2m, lat_t2m, t2m[i,:,:], levels_t2m, colors='black', linewidths=0.2, transform=ccrs.PlateCarree())\n",
    "    axgr.cbar_axes[i].colorbar(cf)\n",
    "\n",
    "figname='./figs/t2m_global_climatology'\n",
    "fig.savefig(figname+'.png',bbox_inches='tight')\n",
    "\n",
    "plt.show()"
   ]
  },
  {
   "cell_type": "markdown",
   "metadata": {},
   "source": [
    "<div class=\"alert alert-warning\">\n",
    "<b>Question : </b>\n",
    "<p><b>1) </b> Que constate-t-on sur les bords est des océans Pacifique et\n",
    " Atlantique ?</p>\n",
    "</div>"
   ]
  },
  {
   "cell_type": "markdown",
   "metadata": {},
   "source": [
    "<div class=\"alert alert-success\">\n",
    "<b>Réponse : </b>\n",
    "</div>"
   ]
  },
  {
   "cell_type": "raw",
   "metadata": {},
   "source": [
    "Carte globale isobare de température (DJF, JJA)."
   ]
  },
  {
   "cell_type": "code",
   "execution_count": null,
   "metadata": {
    "scrolled": false
   },
   "outputs": [],
   "source": [
    "plevt=850\n",
    "ilev = list(lev).index(plevt)\n",
    "\n",
    "axes_class = (GeoAxes, dict(map_projection=proj))\n",
    "fig = plt.figure(figsize=(15,15))\n",
    "fig.suptitle('Temperature (K) at '+str(plevt)+' hPa : NCEP '+year1+'-'+year2, fontsize=16)\n",
    "\n",
    "axgr = AxesGrid(fig, 111, axes_class=axes_class,\n",
    "       nrows_ncols=(2, 1),\n",
    "       axes_pad=0.6,\n",
    "       cbar_location='right',\n",
    "       cbar_mode='single',\n",
    "       cbar_pad=0.2,\n",
    "       cbar_size='3%',\n",
    "       label_mode='')  # note the empty label_mode\n",
    "                   \n",
    "for i, ax in enumerate(axgr):\n",
    "    plot_background(ax)\n",
    "    ax.set_title(seasons[i], fontsize=14)\n",
    "    cf = ax.contourf(lon, lat, t[i,ilev,:,:], levels_t, transform=ccrs.PlateCarree(), cmap='jet', extend='both')\n",
    "    c = ax.contour(lon, lat, t[i,ilev,:,:], levels_t, colors='black', linewidths=0.2, transform=ccrs.PlateCarree())\n",
    "    axgr.cbar_axes[i].colorbar(cf)\n",
    "\n",
    "figname='./figs/t_global_climatology'\n",
    "fig.savefig(figname+'.png',bbox_inches='tight')\n",
    "\n",
    "plt.show()"
   ]
  },
  {
   "cell_type": "markdown",
   "metadata": {},
   "source": [
    "<div class=\"alert alert-warning\">\n",
    "<b>Question : </b>\n",
    "<p><b>1) </b> Sur les cartes isobares à 850 hPa, localiser les zones les plus chaudes de l’hémisphère d’été.</p>\n",
    "</div>"
   ]
  },
  {
   "cell_type": "markdown",
   "metadata": {},
   "source": [
    "<div class=\"alert alert-success\">\n",
    "<b>Réponse : </b>\n",
    "</div>"
   ]
  },
  {
   "cell_type": "markdown",
   "metadata": {},
   "source": [
    "# Etude du champ de vent zonal\n",
    "\n",
    "Le vent mesure la vitesse de déplacement de l’air par rapport à la Terre. Le vent zonal, noté u (unité : m/s) caractérise le déplacement parallèle à un cercle de latitude. Par convention, u > 0 correspond à un vent dirigé d’ouest en est."
   ]
  },
  {
   "cell_type": "raw",
   "metadata": {},
   "source": [
    "Profil méridien en moyenne zonale et verticale du vent zonal (DJF, JJA, annuel)."
   ]
  },
  {
   "cell_type": "code",
   "execution_count": null,
   "metadata": {
    "scrolled": false
   },
   "outputs": [],
   "source": [
    "fig = plt.figure(figsize=(15,10))\n",
    "\n",
    "plt.xlabel('Latitude')\n",
    "plt.ylabel('Zonal wind (m/s)')\n",
    "#plt.xticks(np.arange(-90, 120, 30), ('90S', '60S', '30S', 'Eq', '30N', '60N', '90N'))\n",
    "plt.xticks(np.arange(-90, 120, 30))\n",
    "\n",
    "plt.title('Zonal mean zonal wind - '+str(plev1)+'-'+str(plev2)+ 'hPa average : '+year1+'-'+year2)\n",
    "\n",
    "plt.plot(lat, u_vavg_annual, label='Annual')\n",
    "\n",
    "for i in range(2):\n",
    "    plt.plot(lat, u_vavg[i,:], label=seasons[i])\n",
    "    plt.axhline(0, color='black', linestyle=\"--\")\n",
    "    plt.axvline(0, color='black', linestyle=\"--\")\n",
    "    \n",
    "figname='./figs/uavg_zmean_climatology'\n",
    "plt.savefig(figname+'.png',bbox_inches='tight')\n",
    "\n",
    "plt.legend()\n",
    "\n",
    "plt.show()"
   ]
  },
  {
   "cell_type": "markdown",
   "metadata": {},
   "source": [
    "<div class=\"alert alert-warning\">\n",
    "<b>Question : </b>\n",
    "<p><b>1) </b> Comparer la direction et l’intensité des vents zonaux moyens dominants aux\n",
    " moyennes latitudes et dans les régions tropicales.</p>\n",
    "</div>"
   ]
  },
  {
   "cell_type": "markdown",
   "metadata": {},
   "source": [
    "<div class=\"alert alert-success\">\n",
    "<b>Réponse : </b>\n",
    "</div>"
   ]
  },
  {
   "cell_type": "raw",
   "metadata": {},
   "source": [
    "Coupe verticale-méridienne en moyenne zonale du vent zonal (DJF, JJA) dans la troposphère."
   ]
  },
  {
   "cell_type": "code",
   "execution_count": null,
   "metadata": {
    "scrolled": false
   },
   "outputs": [],
   "source": [
    "fig, axarr = plt.subplots(nrows=2, ncols=1, figsize=(15, 15), constrained_layout=True)\n",
    "axlist = axarr.flatten()\n",
    "fig.suptitle('Zonal wind - zonal mean : NCEP '+year1+'-'+year2, fontsize=16)\n",
    "\n",
    "for i, ax in enumerate(axlist):\n",
    "    ax.set_title(seasons[i], fontsize=14)\n",
    "    plot_zonal_mean(ax)\n",
    "    cf = ax.contourf(lat, lev, uz[i,:,:], levels_uz, cmap='jet', extend='both')\n",
    "    c = ax.contour(lat, lev, uz[i,:,:], levels_uz, colors='black', linewidths=1)\n",
    "    plt.clabel(c, levels_uz, fmt='%2.1i')\n",
    " \n",
    "cb = fig.colorbar(cf, ax=axlist[axlist.shape[0]-1], orientation='horizontal', shrink=0.74, pad=0)\n",
    "cb.set_label('m/s', size='small')\n",
    "\n",
    "figname='./figs/u_zmean_climatology'\n",
    "plt.savefig(figname+'.png',bbox_inches='tight')\n",
    "\n",
    "plt.show()"
   ]
  },
  {
   "cell_type": "markdown",
   "metadata": {},
   "source": [
    "<div class=\"alert alert-warning\">\n",
    "<b>Questions : </b>\n",
    "<p><b>1) </b> Comparer la direction et l’intensité des vents zonaux moyens dominants aux moyennes latitudes et dans les régions tropicales.</p>\n",
    "<p><b>2) </b> Quelle est l’intensité moyenne des maximums de vents d’est observés près du sol en zone tropicale (alizés). En quelle saison sont-ils les plus intenses ?</p>\n",
    "<p><b>3) </b> En quelle saison et vers quel niveau et à quelle latitude observe-t-on un jet\n",
    " d’est de haute troposphère en zone tropicale (jet d’est tropical, JET) ?</p>\n",
    "<p><b>4) </b> Vers quel niveau de pression sont situés les vents les plus forts aux latitudes subtropicales (jets d’ouest subtropicaux, JOST) ? En quelle saison sont-ils les plus intenses ?</p>\n",
    "</div>"
   ]
  },
  {
   "cell_type": "markdown",
   "metadata": {},
   "source": [
    "<div class=\"alert alert-success\">\n",
    "<b>Réponses : </b>\n",
    "</div>"
   ]
  },
  {
   "cell_type": "raw",
   "metadata": {},
   "source": [
    "Coupe verticale-méridienne en moyenne zonale du vent zonal (DJF, JJA) dans la troposphère + stratosphère."
   ]
  },
  {
   "cell_type": "code",
   "execution_count": null,
   "metadata": {
    "scrolled": false
   },
   "outputs": [],
   "source": [
    "fig, axarr = plt.subplots(nrows=2, ncols=1, figsize=(15, 15), constrained_layout=True)\n",
    "axlist = axarr.flatten()\n",
    "fig.suptitle('Zonal wind - zonal mean : NCEP '+year1+'-'+year2, fontsize=16)\n",
    "\n",
    "for i, ax in enumerate(axlist):\n",
    "    ax.set_title(seasons[i], fontsize=14)\n",
    "    plot_zonal_mean2(ax)\n",
    "    cf = ax.contourf(lat, lev, uz[i,:,:], levels_uz, cmap='jet', extend='both')\n",
    "    c = ax.contour(lat, lev, uz[i,:,:], levels_uz, colors='black', linewidths=1)\n",
    "    plt.clabel(c, levels_uz, fmt='%2.1i')\n",
    " \n",
    "cb = fig.colorbar(cf, ax=axlist[axlist.shape[0]-1], orientation='horizontal', shrink=0.74, pad=0)\n",
    "cb.set_label('m/s', size='small')\n",
    "\n",
    "figname='./figs/u_zmean_climatology2'\n",
    "plt.savefig(figname+'.png',bbox_inches='tight')\n",
    "\n",
    "plt.show()"
   ]
  },
  {
   "cell_type": "markdown",
   "metadata": {},
   "source": [
    "<div class=\"alert alert-warning\">\n",
    "<b>Question : </b>\n",
    "<p><b>1) </b> Commenter les structures de vent zonal dans la stratosphère ainsi que leur variations saisonnières.\n",
    "</div>"
   ]
  },
  {
   "cell_type": "markdown",
   "metadata": {},
   "source": [
    "<div class=\"alert alert-success\">\n",
    "<b>Réponse : </b>\n",
    "</div>"
   ]
  },
  {
   "cell_type": "raw",
   "metadata": {},
   "source": [
    "Carte globale isobare du vent zonal (DJF, MAM, JJA, SON)."
   ]
  },
  {
   "cell_type": "code",
   "execution_count": null,
   "metadata": {
    "scrolled": false
   },
   "outputs": [],
   "source": [
    "plevz=200\n",
    "plevu=200\n",
    "ilev = list(lev).index(plevu)\n",
    "\n",
    "axes_class = (GeoAxes, dict(map_projection=proj))\n",
    "fig = plt.figure(figsize=(15,15))\n",
    "fig.suptitle('Zonal wind (m/s) at '+str(plevu)+' hPa : NCEP '+year1+'-'+year2, fontsize=16)\n",
    "\n",
    "axgr = AxesGrid(fig, 111, axes_class=axes_class,\n",
    "       nrows_ncols=(2, 1),\n",
    "       axes_pad=0.6,\n",
    "       cbar_location='right',\n",
    "       cbar_mode='single',\n",
    "       cbar_pad=0.2,\n",
    "       cbar_size='3%',\n",
    "       label_mode='')  # note the empty label_mode\n",
    "                   \n",
    "for i, ax in enumerate(axgr):\n",
    "    ax.coastlines()\n",
    "    ax.set_title(seasons[i], fontsize=14)\n",
    "    plot_background(ax)\n",
    "    cf = ax.contourf(lon, lat, u[i,ilev,:,:], levels_u, transform=ccrs.PlateCarree(), cmap='jet', extend='both')\n",
    "    c = ax.contour(lon, lat, u[i,ilev,:,:], levels_u, colors='black', linewidths=0.5, transform=ccrs.PlateCarree())\n",
    "    axgr.cbar_axes[i].colorbar(cf)\n",
    "\n",
    "figname='./figs/u_global_climatology'\n",
    "fig.savefig(figname+'.png',bbox_inches='tight')\n",
    "\n",
    "plt.show()"
   ]
  },
  {
   "cell_type": "markdown",
   "metadata": {},
   "source": [
    "<div class=\"alert alert-warning\">\n",
    "<b>Question : </b>\n",
    "<p><b>1) </b> Dans quel hémisphère la structure spatiale des noyaux JOST de haute troposphère est-elle plus irrégulière ? Proposer une explication.\n",
    "</div>"
   ]
  },
  {
   "cell_type": "markdown",
   "metadata": {},
   "source": [
    "<div class=\"alert alert-success\">\n",
    "<b>Réponse : </b>\n",
    "</div>"
   ]
  },
  {
   "cell_type": "markdown",
   "metadata": {},
   "source": [
    "# Etude des champs de vent méridien et de vitesse verticale\n",
    "\n",
    "Le vent mesure la vitesse de déplacement de l’air par rapport à la Terre. Le vent méridien, noté v (unité : m/s) caractérise le déplacement parallèle à un méridien. Par convention, v > 0 correspond à un vent dirigé du sud vers le nord. La vitesse verticale des particules d’air dans l’atmosphère est un paramètre non mesuré par les instruments d’observation classiques mais accessible via les modèles numériques. On l’exprime en m/s si la coordonnée verticale est l’altitude. Les modèles numériques ayant une coordonnée verticale en pression on exprime le plus souvent la vitesse verticale (oméga, unité : Pa/s). Elle est négative lorsque l’air « monte » (ascendance) et positive lorsqu’il « descend » (subsidence).\n",
    "\n",
    "Remarque : on se restreint ici à l’étude de la circulation méridienne et verticale en moyenne zonale entre les latitudes 60S-60N."
   ]
  },
  {
   "cell_type": "raw",
   "metadata": {},
   "source": [
    "Coupe verticale en moyenne zonale du vent méridien et de la vitesse verticale entre 60S et 60N (moyenne annuelle)."
   ]
  },
  {
   "cell_type": "code",
   "execution_count": null,
   "metadata": {
    "scrolled": false
   },
   "outputs": [],
   "source": [
    "fig = plt.figure(figsize=(15., 10.))\n",
    "ax = fig.add_subplot(1, 1, 1)\n",
    "fig.suptitle('Vertical velocity (Pa/s), meridional wind (m/s) and zonal wind (m/s) - zonal mean : NCEP '+year1+'-'+year2, fontsize=12)\n",
    "\n",
    "ax.set_title('Annual mean', fontsize=8)\n",
    "plot_zonal_mean(ax)\n",
    "ax.set_xlim(-60, 60)\n",
    "cf = ax.contourf(lat, levw, wz_annual[:,:], levels_wz, cmap='seismic', extend='both')\n",
    "c = ax.contour(lat, lev, vz_annual[:,:], levels_vz, colors='black', linewidths=1)\n",
    "plt.clabel(c, levels_vz, fmt='%1.1f')\n",
    "c2 = ax.contour(lat, lev, uz_annual[:,:], levels_uz_an, colors='green', linewidths=0.5)\n",
    "plt.clabel(c2, levels_uz_an, fmt='%2.1i')\n",
    "\n",
    "cb = fig.colorbar(cf, orientation='horizontal', aspect=65, shrink=0.75, pad=0.15)\n",
    "cb.set_label('Pa/s', size='small')\n",
    "\n",
    "figname='./figs/wv_zmean_annual_climatology'\n",
    "fig.savefig(figname+'.png',bbox_inches='tight')\n",
    "\n",
    "plt.show()"
   ]
  },
  {
   "cell_type": "markdown",
   "metadata": {},
   "source": [
    "<div class=\"alert alert-warning\">\n",
    "<b>Questions : </b>\n",
    "<p><b>1) </b> Décrire les deux cellules fermées méridiennes et verticales que l’on observe en moyenne zonale et annuelle au voisinnage de l’équateur : localisation des zones d’ascendance, de subsidence, de convergence et de divergence Ces deux cellules méridiennes et verticales constituent la circulation de Hadley.</p>\n",
    "<p><b>2) </b> D’après le signe de la composante méridienne du vent en zone tropicale, donner la direction des alizés de chaque hémisphère. Les alizés convergent-ils ou divergent-ils au niveau des branches ascendantes des cellules de Hadley ?</p>\n",
    "<p><b>3) </b> En moyenne annuellen où sont localisées les branches subsidentes des cellules de Hadley par rapport aux jets d’ouest subtropicaux vus précédemment (représentés ici en vert) ?</p>   \n",
    "</div>"
   ]
  },
  {
   "cell_type": "markdown",
   "metadata": {},
   "source": [
    "<div class=\"alert alert-success\">\n",
    "<b>Réponses : </b>\n",
    "</div>"
   ]
  },
  {
   "cell_type": "raw",
   "metadata": {},
   "source": [
    "Coupe verticale en moyenne zonale du vent méridien et de la vitesse verticale entre 60S et 60N (DJF, MAM, JJA, SON)."
   ]
  },
  {
   "cell_type": "code",
   "execution_count": null,
   "metadata": {
    "scrolled": false
   },
   "outputs": [],
   "source": [
    "fig, axarr = plt.subplots(nrows=2, ncols=2, figsize=(15, 8), constrained_layout=True)\n",
    "axlist = axarr.flatten()\n",
    "fig.suptitle('Vertical velocity (Pa/s) and meridional wind (m/s) - zonal mean : NCEP '+year1+'-'+year2, fontsize=12)\n",
    "\n",
    "for i, ax in enumerate(axlist):\n",
    "    ax.set_title(seasons[i], fontsize=8)\n",
    "    plot_zonal_mean(ax)\n",
    "    ax.set_xlim(-60, 60)\n",
    "    cf = ax.contourf(lat, levw, wz[i,:,:], levels_wz, cmap='seismic', extend='both')\n",
    "    c = ax.contour(lat, lev, vz[i,:,:], levels_vz, colors='black', linewidths=1)\n",
    "    plt.clabel(c, levels_vz, fmt='%1.1f')\n",
    "\n",
    "cb = fig.colorbar(cf, ax=axlist[axlist.shape[0]-1], orientation='horizontal', shrink=1, pad=0)\n",
    "cb.ax.tick_params(labelsize=8) \n",
    "cb.set_label('Pa/s', size='small')\n",
    "\n",
    "figname='./figs/wv_zmean_climatology'\n",
    "fig.savefig(figname+'.png',bbox_inches='tight')\n",
    "\n",
    "plt.show()"
   ]
  },
  {
   "cell_type": "markdown",
   "metadata": {},
   "source": [
    "<div class=\"alert alert-warning\">\n",
    "<b>Questions : </b>\n",
    "<p><b>1) </b> Décrire le cycle saisonnier de la circulation de Hadley en termes d’intensité, d'extension méridienne et de position.</p>\n",
    "<p><b>2) </b> A quelle période de l’année les cellules de Hadley semblent-elles le plus symétriques par rapport à l'équateur ?</p>\n",
    "</div>"
   ]
  },
  {
   "cell_type": "markdown",
   "metadata": {},
   "source": [
    "<div class=\"alert alert-success\">\n",
    "<b>Réponses : </b>\n",
    "</div>"
   ]
  },
  {
   "cell_type": "markdown",
   "metadata": {},
   "source": [
    "# Etude du champ de masse (pression)\n",
    "\n",
    "Dans l’atmosphère, la pression en un point est pratiquement égale au poids d’une colonne d’air de section horizontale égale à 1 m2, située au-dessus du point de mesure, et s’étendant jusqu’au sommet de l’atmosphère. L’unité SI de la pression est le Pascal (Pa). 1 Pa = 1 N.m-2. Au niveau de la mer, P ~ 10 5Pa = 1000 hPa (1013,25 hPa en condition « standard »). Par habitude, certains météorologistes parlent encore en bars ou en millibars, avec 1 bar = 10 5Pa. 1 mbar = 1 hPa. Le relief influence très fortement les valeurs de la pression au sol et le paramètre « pression de surface » donne plus d’informations sur les différences d’altitude entre les différents points de mesure que sur les variations horizontales et temporelles de la pression. Ainsi, pour comparer les différentes mesures de pression entre elles, on estime à partir des données de pression, de température et d’humidité au sol, la pression qu’on aurait à un niveau de référence donné : le niveau moyen de la mer. On parle de pression réduite au niveau de la mer (Pmer, ou MSLP en anglais pour « Mean Sea Level Pressure »)."
   ]
  },
  {
   "cell_type": "raw",
   "metadata": {},
   "source": [
    "Profil méridien en moyenne zonale de la Pmer (DJF, JJA)."
   ]
  },
  {
   "cell_type": "code",
   "execution_count": null,
   "metadata": {
    "scrolled": false
   },
   "outputs": [],
   "source": [
    "fig = plt.figure(figsize=(15,10))\n",
    "\n",
    "plt_title = 'Mean sea level pressure (hPa) - zonal mean : NCEP '+year1+'-'+year2\n",
    "plt.xlabel('Latitude')\n",
    "plt.ylabel('MSLP (hPa)')\n",
    "#plt.xticks(np.arange(-90, 120, 30), ('90S', '60S', '30S', 'Eq', '30N', '60N', '90N'))\n",
    "plt.xticks(np.arange(-90, 120, 30))\n",
    "\n",
    "plt.title(plt_title)\n",
    "\n",
    "plt.plot(lat, pz_annual, label='Annual')\n",
    "\n",
    "for i in range(2):\n",
    " plt.plot(lat, pz[i,:], label=seasons[i])\n",
    " plt.axhline(1013, color='black', linestyle=\"--\")\n",
    " plt.axvline(0, color='black', linestyle=\"--\")\n",
    "\n",
    "plt.legend()\n",
    "\n",
    "figname='./figs/slp_zmean_climatology'\n",
    "plt.savefig(figname+'.png',bbox_inches='tight')\n",
    "\n",
    "plt.show()"
   ]
  },
  {
   "cell_type": "markdown",
   "metadata": {},
   "source": [
    "<div class=\"alert alert-warning\">\n",
    "<b>Questions : </b>\n",
    "<p><b>1) </b> En moyenne annuelle, à quelles latitudes observe-t-on maximums/minimums de la masse de la colonne d’air ?</p>\n",
    "<p><b>2) </b> Comment ces structures varient-elles en fonction de la saison ?</p>\n",
    "</div>"
   ]
  },
  {
   "cell_type": "markdown",
   "metadata": {},
   "source": [
    "<div class=\"alert alert-success\">\n",
    "<b>Réponses : </b>\n",
    "</div>"
   ]
  },
  {
   "cell_type": "raw",
   "metadata": {},
   "source": [
    "Carte globale de Pmer (DJF, JJA)."
   ]
  },
  {
   "cell_type": "code",
   "execution_count": null,
   "metadata": {
    "scrolled": false
   },
   "outputs": [],
   "source": [
    "axes_class = (GeoAxes, dict(map_projection=proj))\n",
    "fig = plt.figure(figsize=(15,15))\n",
    "fig.suptitle('Mean Sea level pressure (hPa) : NCEP '+year1+'-'+year2, fontsize=16)\n",
    "\n",
    "axgr = AxesGrid(fig, 111, axes_class=axes_class,\n",
    "       nrows_ncols=(2, 1),\n",
    "       axes_pad=0.6,\n",
    "       cbar_location='right',\n",
    "       cbar_mode='single', # None/single/each\n",
    "       cbar_pad=0.2,\n",
    "       cbar_size='3%',\n",
    "       label_mode='')  # note the empty label_mode\n",
    "                   \n",
    "for i, ax in enumerate(axgr):\n",
    "    plot_background(ax)\n",
    "    ax.set_title(seasons[i], fontsize=14)\n",
    "    cf = ax.contourf(lon, lat, p[i,:,:], levels_p, transform=ccrs.PlateCarree(), cmap='jet', extend='both')\n",
    "    c = ax.contour(lon, lat, p[i,:,:], levels_p, colors='black', linewidths=0.2, transform=ccrs.PlateCarree())\n",
    "    axgr.cbar_axes[i].colorbar(cf)\n",
    "\n",
    "figname='./figs/slp_global_climatology'\n",
    "fig.savefig(figname+'.png',bbox_inches='tight')\n",
    "\n",
    "plt.show()"
   ]
  },
  {
   "cell_type": "markdown",
   "metadata": {},
   "source": [
    "<div class=\"alert alert-warning\">\n",
    "<b>Questions : </b>\n",
    "<p><b>1) </b> Nommer les anticyclones océaniques subtropicaux. Au niveau de quelle branche de la cellule de Hadley sont-ils localisés ?</p>\n",
    "<p><b>2) </b> Au niveau de anticyclones subtropicaux Atlantique et Pacifique, la pression est-elle plus forte sur les flancs est ou ouest des bassins ?</p>\n",
    "<p><b>3) </b> Nommer les structures climatologiques présentes sur l’Atlantique nord en DJF.</p>\n",
    "<p><b>4) </b> Selon la saison, localiser les principales dépressions thermiques continentales (dépressions au sol correspondant à de l'air chaud, cf. carte de température à 850 hPa).</p>\n",
    "<p><b>5) </b> Selon la saison, localiser les principaux anticyclones thermiques continentaux (anticyclone au sol correspondant à de l'air froid, cf. carte de température à 850 hPa). Localiser l’anticyclone thermique le plus intense.</p>\n",
    "</div>"
   ]
  },
  {
   "cell_type": "markdown",
   "metadata": {},
   "source": [
    "<div class=\"alert alert-success\">\n",
    "<b>Réponses : </b>\n",
    "</div>"
   ]
  },
  {
   "cell_type": "markdown",
   "metadata": {},
   "source": [
    "# Etude du champ de masse (géopotentiel, altitude gépotentielle)\n",
    "\n",
    "Le champ de géopotentiel φ représente une énergie potentielle de pesanteur : plus une particule d'air se situe haut dans l’atmosphère, plus son énergie potentielle et donc son géopotentiel sont élevés.\n",
    "\n",
    "φ = g*z où g est l’accélération de pesanteur et z l’altitude (unité : J/kg)\n",
    "\n",
    "Exemple : le travail à exercer contre la pesanteur terrestre de référence (g = 9,81 m/s²) pour élever une masse unitaire de 1 kg de la surface jusqu’à 5000 mètres sera de 9,81*5000 = 49050 J. Cette masse aura donc acquis un géopotentiel de 49 050 J/Kg, c’est-à-dire une énergie latente capable de se matérialiser si l’objet retombait à la surface (accélération lors de la chute). En divisant par l’accélération de pesanteur de référence, on trouve l’altitude géopotentielle Z (altitude géopotentielle est l’altitude à laquelle est atteint un potentiel de pesanteur donné), dans ce cas équivalente à l’altitude géométrique : Z= φ/g = 5000 mètres géopotentiels (mgp).\n",
    "\n",
    "En météorologie , les isolignes d'égale altitude géopotentielle Z sont appelées les isohypses (courbes de niveau des surfaces isobares). Elles s’expriment en mgp (approximativement égal au mètre). On parle de hauts ou de bas géopotentiels pour désigner respectivement des maximums d’altitude d’une surface isobare (zone de hautes pressions en altitude) ou des minimums d’altitude d’une surface isobare (zone de basses pressions en altitude)."
   ]
  },
  {
   "cell_type": "raw",
   "metadata": {},
   "source": [
    "Coupe verticale-méridienne en moyenne zonale de la hauteur géopotentielle (DJF, JJA)."
   ]
  },
  {
   "cell_type": "code",
   "execution_count": null,
   "metadata": {
    "scrolled": false
   },
   "outputs": [],
   "source": [
    "fig, axarr = plt.subplots(nrows=2, ncols=1, figsize=(15, 15), constrained_layout=True)\n",
    "axlist = axarr.flatten()\n",
    "fig.suptitle('Geopotential height - zonal mean : NCEP '+year1+'-'+year2, fontsize=16)\n",
    "\n",
    "for i, ax in enumerate(axlist):\n",
    "    ax.set_title(seasons[i], fontsize=14)\n",
    "    plot_zonal_mean(ax)\n",
    "    cf = ax.contourf(lat, lev, zz[i,:,:], levels_zz, cmap='jet', extend='both')\n",
    "    c = ax.contour(lat, lev, zz[i,:,:], levels_zz, colors='black', linewidths=1)\n",
    "    plt.clabel(c, levels_zz, fmt='%1.2i')\n",
    "    ax.axhline(100, color='white', linestyle=\"--\")\n",
    "    ax.axhline(200, color='white', linestyle=\"--\")\n",
    "    ax.axhline(300, color='white', linestyle=\"--\")\n",
    "    ax.axhline(500, color='white', linestyle=\"--\")\n",
    "    ax.axhline(700, color='white', linestyle=\"--\")\n",
    "    ax.axhline(850, color='white', linestyle=\"--\")\n",
    "    ax.axhline(925, color='white', linestyle=\"--\")\n",
    " \n",
    "cf = fig.colorbar(cf, ax=axlist[axlist.shape[0]-1], orientation='horizontal', shrink=0.74, pad=0)\n",
    "cf.set_label('mgp', size='small')\n",
    "\n",
    "figname='./figs/z_zmean_climatology1'\n",
    "plt.savefig(figname+'.png',bbox_inches='tight')\n",
    "\n",
    "plt.show()"
   ]
  },
  {
   "cell_type": "markdown",
   "metadata": {},
   "source": [
    "<div class=\"alert alert-warning\">\n",
    "<b>Questions : </b>\n",
    "<p><b>1) </b> A 45N, quelles sont les altitudes géopotentielles moyennes des surfaces isobares 850 hPa, 700 hPa, 500 hPa, 300 hPa et 200 hPa (été et hiver) ?</p>\n",
    "<p><b>2) </b> Même question à 10N.</p>\n",
    "</div>"
   ]
  },
  {
   "cell_type": "markdown",
   "metadata": {},
   "source": [
    "<div class=\"alert alert-success\">\n",
    "<b>Réponses : </b>\n",
    "</div>"
   ]
  },
  {
   "cell_type": "markdown",
   "metadata": {},
   "source": [
    "<div class=\"alert alert-danger\">\n",
    "<b>Question : </b>\n",
    "<p><b>1) </b> Retrouver les correspondances altitude-pression ci-dessus par le code à partir du tableau zz[season,lev,lat]</p>\n",
    "</div>"
   ]
  },
  {
   "cell_type": "code",
   "execution_count": null,
   "metadata": {
    "scrolled": false
   },
   "outputs": [],
   "source": [
    "print('Tableau latitude')\n",
    "print(lat)\n",
    "print('Tableau level')\n",
    "print(lev)\n",
    "print('Taille tableau géopotentiel (season,lev,lat)')\n",
    "print(zz.shape)"
   ]
  },
  {
   "cell_type": "raw",
   "metadata": {},
   "source": [
    "Profils méridien de différentes hauteurs géopotentielles en moyenne zonale (DJF, JJA)."
   ]
  },
  {
   "cell_type": "code",
   "execution_count": null,
   "metadata": {
    "scrolled": false
   },
   "outputs": [],
   "source": [
    "lev_text=[\"925 hPa\",\"850 hPa\",\"700 hPa\",\"500 hPa\",\"300 hPa\", \"200 hPa\",\"100 hPa\"]\n",
    "iplev1 = list(lev).index(925)\n",
    "iplev2 = list(lev).index(850)\n",
    "iplev3 = list(lev).index(700)\n",
    "iplev4 = list(lev).index(500)\n",
    "iplev5 = list(lev).index(300)\n",
    "iplev6 = list(lev).index(200)\n",
    "iplev7 = list(lev).index(100)\n",
    "\n",
    "fig = plt.figure(figsize=(12,15))\n",
    "fig.suptitle('Geopotential height - zonal mean : NCEP '+year1+'-'+year2, fontsize=16)\n",
    "\n",
    "plt.subplot(211)\n",
    "plt.title('DJF')\n",
    "plt.xlabel('latitude')\n",
    "plt.ylabel('height')\n",
    "#plt.xticks(np.arange(-90, 120, 30), ('90S', '60S', '30S', 'Eq', '30N', '60N', '90N'))\n",
    "plt.xticks(np.arange(-90, 120, 30))\n",
    "plt.plot(lat,zz[0,iplev1], label=lev_text[0])\n",
    "plt.plot(lat,zz[0,iplev2], label=lev_text[1])\n",
    "plt.plot(lat,zz[0,iplev3], label=lev_text[2])\n",
    "plt.plot(lat,zz[0,iplev4], label=lev_text[3])\n",
    "plt.plot(lat,zz[0,iplev5], label=lev_text[4])\n",
    "plt.plot(lat,zz[0,iplev6], label=lev_text[5])\n",
    "plt.plot(lat,zz[0,iplev7], label=lev_text[6])\n",
    "plt.legend()\n",
    "\n",
    "plt.subplot(212)\n",
    "plt.title('JJA')\n",
    "plt.xlabel('latitude')\n",
    "plt.ylabel('height')\n",
    "#plt.xticks(np.arange(-90, 120, 30), ('90S', '60S', '30S', 'Eq', '30N', '60N', '90N'))\n",
    "plt.xticks(np.arange(-90, 120, 30))\n",
    "plt.plot(lat,zz[1,iplev1], label=lev_text[0])\n",
    "plt.plot(lat,zz[1,iplev2], label=lev_text[1])\n",
    "plt.plot(lat,zz[1,iplev3], label=lev_text[2])\n",
    "plt.plot(lat,zz[1,iplev4], label=lev_text[3])\n",
    "plt.plot(lat,zz[1,iplev5], label=lev_text[4])\n",
    "plt.plot(lat,zz[1,iplev6], label=lev_text[5])\n",
    "plt.plot(lat,zz[1,iplev7], label=lev_text[6])\n",
    "plt.legend()\n",
    "\n",
    "figname='./figs/z_zmean_climatology2'\n",
    "plt.savefig(figname+'.png',bbox_inches='tight')\n",
    "\n",
    "plt.show()"
   ]
  },
  {
   "cell_type": "markdown",
   "metadata": {},
   "source": [
    "<div class=\"alert alert-warning\">\n",
    "<b>Question : </b>\n",
    "<p><b>1) </b> Dans quelles régions peut-on dire que les surfaces isobares sont quasi-horizontales ? Dans quelles régions les surfaces isobares sont-elles inclinées (i.e pente on observe une pente des surfaces isobares) ?</p>\n",
    "</div>"
   ]
  },
  {
   "cell_type": "markdown",
   "metadata": {},
   "source": [
    "<div class=\"alert alert-success\">\n",
    "<b>Réponse : </b>\n",
    "</div>"
   ]
  },
  {
   "cell_type": "raw",
   "metadata": {},
   "source": [
    "Carte globale isobare de la hauteur géopotentielle (DJF, JJA)."
   ]
  },
  {
   "cell_type": "code",
   "execution_count": null,
   "metadata": {
    "scrolled": false
   },
   "outputs": [],
   "source": [
    "plevz=200\n",
    "ilev = list(lev).index(plevz)\n",
    "\n",
    "axes_class = (GeoAxes, dict(map_projection=proj))\n",
    "fig = plt.figure(figsize=(15,15))\n",
    "fig.suptitle('Geopotential height (mgp) at '+str(plevz)+' hPa : NCEP '+year1+'-'+year2, fontsize=16)\n",
    "\n",
    "axgr = AxesGrid(fig, 111, axes_class=axes_class,\n",
    "       nrows_ncols=(2, 1),\n",
    "       axes_pad=0.6,\n",
    "       cbar_location='right',\n",
    "       cbar_mode='single',\n",
    "       cbar_pad=0.2,\n",
    "       cbar_size='3%',\n",
    "       label_mode='')  # note the empty label_mode\n",
    "                   \n",
    "for i, ax in enumerate(axgr):\n",
    "    plot_background(ax)\n",
    "    ax.set_title(seasons[i], fontsize=14)\n",
    "    cf = ax.contourf(lon, lat, z[i,ilev,:,:], levels_z, transform=ccrs.PlateCarree(), cmap='jet', extend='both')\n",
    "    c = ax.contour(lon, lat, z[i,ilev,:,:], levels_z, colors='black', linewidths=0.2, transform=ccrs.PlateCarree())\n",
    "    axgr.cbar_axes[i].colorbar(cf)\n",
    "\n",
    "figname='./figs/z_global_climatology'\n",
    "fig.savefig(figname+'.png',bbox_inches='tight')\n",
    "\n",
    "plt.show()"
   ]
  },
  {
   "cell_type": "markdown",
   "metadata": {},
   "source": [
    "<div class=\"alert alert-warning\">\n",
    "<b>Questions : </b>\n",
    "<p><b>1) </b> A quelles latitudes et en quelle saison la pente de la surface isobare à 200 hPa est-elle la plus importante ?</p>\n",
    "<p><b>2) </b> Dans quelles régions et en quelle saison les dissymétries zonales du champ de géopotentiel à 200hPa sont-elles les plus visibles ?</p>\n",
    "</div>"
   ]
  },
  {
   "cell_type": "markdown",
   "metadata": {},
   "source": [
    "<div class=\"alert alert-success\">\n",
    "<b>Réponses : </b>\n",
    "</div>"
   ]
  },
  {
   "cell_type": "markdown",
   "metadata": {},
   "source": [
    "# Etude de la relation masse-température\n",
    "\n",
    "L’épaisseur mesure la distance (en mètres) entre 2 niveaux de pression. En météorologie, on étudie traditionnellement l’épaisseur de la couche 1000-500 hPa : dz = z500 - z1000."
   ]
  },
  {
   "cell_type": "raw",
   "metadata": {},
   "source": [
    "Carte globale d'épaisseurs et de température moyenne 1000-500 hPa (DJF, JJA)."
   ]
  },
  {
   "cell_type": "code",
   "execution_count": null,
   "metadata": {
    "scrolled": false
   },
   "outputs": [],
   "source": [
    "axes_class = (GeoAxes, dict(map_projection=proj))\n",
    "fig = plt.figure(figsize=(15,15))\n",
    "fig.suptitle(str(plevz1)+'-'+str(plevz2)+' hPa average temperature (K) and thickness (mgp) : NCEP '+year1+'-'+year2, fontsize=12)\n",
    "\n",
    "axgr = AxesGrid(fig, 111, axes_class=axes_class,\n",
    "       nrows_ncols=(2, 1),\n",
    "       axes_pad=0.6,\n",
    "       cbar_location='right',\n",
    "       cbar_mode='single',\n",
    "       cbar_pad=0.2,\n",
    "       cbar_size='3%',\n",
    "       label_mode='')  # note the empty label_mode\n",
    "                   \n",
    "for i, ax in enumerate(axgr):\n",
    "   ax.set_title(seasons[i], fontsize=10)\n",
    "   plot_background(ax)\n",
    "   cf = ax.contourf(lon, lat, tavg[i,:,:], levels_tavg, transform=ccrs.PlateCarree(), cmap='jet', extend='both')\n",
    "   c = ax.contour(lon, lat, dz[i,:,:], levels_dz, colors='black', linewidths=1, transform=ccrs.PlateCarree())   \n",
    "   axgr.cbar_axes[i].colorbar(cf)\n",
    "   ax.clabel(c, inline=1, fmt='%4.1i', fontsize=10)\n",
    "\n",
    "figname='./figs/thickness_global_climatology'\n",
    "fig.savefig(figname+'.png',bbox_inches='tight')\n",
    "\n",
    "plt.show()"
   ]
  },
  {
   "cell_type": "markdown",
   "metadata": {},
   "source": [
    "<div class=\"alert alert-warning\">\n",
    "<b>Questions : </b>\n",
    "<p><b>1) </b> D’après les cartes affichées déduire le lien entre l'épaisseur d'une couche et sa température moyenne.</p>\n",
    "<p><b>2) </b> Quelle est la signature des dépressions thermiques continentales en termes d’épaisseur et de température moyenne de la couche 1000-500 hPa ?</p>\n",
    "</div>"
   ]
  },
  {
   "cell_type": "markdown",
   "metadata": {},
   "source": [
    "<div class=\"alert alert-success\">\n",
    "<b>Réponses : </b>\n",
    "</div>"
   ]
  },
  {
   "cell_type": "markdown",
   "metadata": {},
   "source": [
    "# Etude de la relation masse-vent\n",
    "\n",
    "La règle de Buys-Ballot doit son nom au météorologiste hollandais Buys-Ballot (1817- 1890) ; ce dernier l’avait déduite à son époque des observations météorologiques dont il disposait. Cette règle donne une bonne approximation du vent réel aux moyennes latitudes, à « grande » échelle, sauf très près du sol."
   ]
  },
  {
   "cell_type": "raw",
   "metadata": {},
   "source": [
    "Carte globale isobare de la hauteur géopotentielle et du vent à 200 hPa (DJF, JJA)."
   ]
  },
  {
   "cell_type": "code",
   "execution_count": null,
   "metadata": {
    "scrolled": false
   },
   "outputs": [],
   "source": [
    "plevz=200\n",
    "ilev = list(lev).index(plevz)\n",
    "levels_z = np.arange(10500,12800,100)\n",
    "\n",
    "axes_class = (GeoAxes, dict(map_projection=proj))\n",
    "fig = plt.figure(figsize=(15,15))\n",
    "fig.suptitle('Geopotential height (mgp) and winds at '+str(plevz)+' hPa : NCEP '+year1+'-'+year2, fontsize=16)\n",
    "\n",
    "axgr = AxesGrid(fig, 111, axes_class=axes_class,\n",
    "       nrows_ncols=(2, 1),\n",
    "       axes_pad=0.6,\n",
    "       cbar_location='right',\n",
    "       cbar_mode='single',\n",
    "       cbar_pad=0.2,\n",
    "       cbar_size='3%',\n",
    "       label_mode='')  # note the empty label_mode\n",
    "                   \n",
    "for i, ax in enumerate(axgr):\n",
    "    ax.set_title(seasons[i], fontsize=14)\n",
    "    plot_background(ax)\n",
    "    cf = ax.contourf(lon, lat, z[i,ilev,:,:], levels_z, transform=ccrs.PlateCarree(), cmap='jet', extend='both')\n",
    "    axgr.cbar_axes[i].colorbar(cf)\n",
    "    c = ax.contour(lon, lat, z[i,ilev,:,:], levels_z, colors='black', linewidths=0.5, transform=ccrs.PlateCarree())\n",
    "    #   wind_slice = slice(None, None, 3)\n",
    "    #   wind = ax.barbs(lon[wind_slice], lat[wind_slice],\n",
    "    #                u[i,ilev,:,:][wind_slice, wind_slice], v[i,ilev,:,:][wind_slice, wind_slice],\n",
    "    #                color='blue', length=6,sizes=dict(emptybarb=0.25, spacing=.2, height=0.5),\n",
    "    #                zorder = 10, linewidth=0.95, transform= ccrs.PlateCarree())\n",
    "    if plevz == 200:\n",
    "        wind = ax.quiver(lon, lat, u[i,ilev,:,:], v[i,ilev,:,:],\n",
    "                         scale=1000, angles='xy', regrid_shape=40,\n",
    "                         transform=ccrs.PlateCarree())\n",
    "    if plevz == 925:\n",
    "        wind = ax.quiver(lon, lat, u[i,ilev,:,:], v[i,ilev,:,:],\n",
    "                         scale=600, angles='xy', regrid_shape=40,\n",
    "                         transform=ccrs.PlateCarree())    \n",
    "    if plevz == 850:\n",
    "        wind = ax.quiver(lon, lat, u[i,ilev,:,:], v[i,ilev,:,:],\n",
    "                         scale=600, angles='xy', regrid_shape=40,\n",
    "                         transform=ccrs.PlateCarree())    \n",
    "\n",
    "figname='./figs/zuv'+str(plevz)+'_global_climatology'\n",
    "fig.savefig(figname+'.png',bbox_inches='tight')\n",
    "\n",
    "plt.show()"
   ]
  },
  {
   "cell_type": "raw",
   "metadata": {},
   "source": [
    "Carte globale isobare de la hauteur géopotentielle et du vent à 850 hPa (DJF, JJA)."
   ]
  },
  {
   "cell_type": "code",
   "execution_count": null,
   "metadata": {
    "scrolled": false
   },
   "outputs": [],
   "source": [
    "plevz=850\n",
    "ilev = list(lev).index(plevz)\n",
    "levels_z = np.arange(1200,1620,20)\n",
    "\n",
    "axes_class = (GeoAxes, dict(map_projection=proj))\n",
    "fig = plt.figure(figsize=(15,15))\n",
    "fig.suptitle('Geopotential height (mgp) and winds at '+str(plevz)+' hPa : NCEP '+year1+'-'+year2, fontsize=16)\n",
    "\n",
    "axgr = AxesGrid(fig, 111, axes_class=axes_class,\n",
    "       nrows_ncols=(2, 1),\n",
    "       axes_pad=0.6,\n",
    "       cbar_location='right',\n",
    "       cbar_mode='single',\n",
    "       cbar_pad=0.2,\n",
    "       cbar_size='3%',\n",
    "       label_mode='')  # note the empty label_mode\n",
    "                   \n",
    "for i, ax in enumerate(axgr):\n",
    "    ax.set_title(seasons[i], fontsize=14)\n",
    "    plot_background(ax)\n",
    "    cf = ax.contourf(lon, lat, z[i,ilev,:,:], levels_z, transform=ccrs.PlateCarree(), cmap='jet', extend='both')\n",
    "    axgr.cbar_axes[i].colorbar(cf)\n",
    "    c = ax.contour(lon, lat, z[i,ilev,:,:], levels_z, colors='black', linewidths=0.5, transform=ccrs.PlateCarree())\n",
    "    #   wind_slice = slice(None, None, 3)\n",
    "    #   wind = ax.barbs(lon[wind_slice], lat[wind_slice],\n",
    "    #                u[i,ilev,:,:][wind_slice, wind_slice], v[i,ilev,:,:][wind_slice, wind_slice],\n",
    "    #                color='blue', length=6,sizes=dict(emptybarb=0.25, spacing=.2, height=0.5),\n",
    "    #                zorder = 10, linewidth=0.95, transform= ccrs.PlateCarree())\n",
    "    if plevz == 200:\n",
    "        wind = ax.quiver(lon, lat, u[i,ilev,:,:], v[i,ilev,:,:],\n",
    "                         scale=1000, angles='xy', regrid_shape=40,\n",
    "                         transform=ccrs.PlateCarree())\n",
    "    if plevz == 925:\n",
    "        wind = ax.quiver(lon, lat, u[i,ilev,:,:], v[i,ilev,:,:],\n",
    "                         scale=600, angles='xy', regrid_shape=40,\n",
    "                         transform=ccrs.PlateCarree())    \n",
    "    if plevz == 850:\n",
    "        wind = ax.quiver(lon, lat, u[i,ilev,:,:], v[i,ilev,:,:],\n",
    "                         scale=600, angles='xy', regrid_shape=40,\n",
    "                         transform=ccrs.PlateCarree())    \n",
    "\n",
    "figname='./figs/zuv'+str(plevz)+'_global_climatology'\n",
    "fig.savefig(figname+'.png',bbox_inches='tight')\n",
    "\n",
    "plt.show()"
   ]
  },
  {
   "cell_type": "raw",
   "metadata": {},
   "source": [
    "Carte globale isobare de la hauteur géopotentielle et du vent à 925 hPa (DJF, JJA)."
   ]
  },
  {
   "cell_type": "code",
   "execution_count": null,
   "metadata": {
    "scrolled": false
   },
   "outputs": [],
   "source": [
    "plevz=925\n",
    "ilev = list(lev).index(plevz)\n",
    "levels_z = np.arange(400,910,10)\n",
    "\n",
    "axes_class = (GeoAxes, dict(map_projection=proj))\n",
    "fig = plt.figure(figsize=(15,15))\n",
    "fig.suptitle('Geopotential height (mgp) and winds at '+str(plevz)+' hPa : NCEP '+year1+'-'+year2, fontsize=16)\n",
    "\n",
    "axgr = AxesGrid(fig, 111, axes_class=axes_class,\n",
    "       nrows_ncols=(2, 1),\n",
    "       axes_pad=0.6,\n",
    "       cbar_location='right',\n",
    "       cbar_mode='single',\n",
    "       cbar_pad=0.2,\n",
    "       cbar_size='3%',\n",
    "       label_mode='')  # note the empty label_mode\n",
    "                   \n",
    "for i, ax in enumerate(axgr):\n",
    "    ax.set_title(seasons[i], fontsize=14)\n",
    "    plot_background(ax)\n",
    "    cf = ax.contourf(lon, lat, z[i,ilev,:,:], levels_z, transform=ccrs.PlateCarree(), cmap='jet', extend='both')\n",
    "    axgr.cbar_axes[i].colorbar(cf)\n",
    "    c = ax.contour(lon, lat, z[i,ilev,:,:], levels_z, colors='black', linewidths=0.5, transform=ccrs.PlateCarree())\n",
    "    #   wind_slice = slice(None, None, 3)\n",
    "    #   wind = ax.barbs(lon[wind_slice], lat[wind_slice],\n",
    "    #                u[i,ilev,:,:][wind_slice, wind_slice], v[i,ilev,:,:][wind_slice, wind_slice],\n",
    "    #                color='blue', length=6,sizes=dict(emptybarb=0.25, spacing=.2, height=0.5),\n",
    "    #                zorder = 10, linewidth=0.95, transform= ccrs.PlateCarree())\n",
    "    if plevz == 200:\n",
    "        wind = ax.quiver(lon, lat, u[i,ilev,:,:], v[i,ilev,:,:],\n",
    "                         scale=1000, angles='xy', regrid_shape=40,\n",
    "                         transform=ccrs.PlateCarree())\n",
    "    if plevz == 925:\n",
    "        wind = ax.quiver(lon, lat, u[i,ilev,:,:], v[i,ilev,:,:],\n",
    "                         scale=600, angles='xy', regrid_shape=40,\n",
    "                         transform=ccrs.PlateCarree())    \n",
    "    if plevz == 850:\n",
    "        wind = ax.quiver(lon, lat, u[i,ilev,:,:], v[i,ilev,:,:],\n",
    "                         scale=600, angles='xy', regrid_shape=40,\n",
    "                         transform=ccrs.PlateCarree())    \n",
    "\n",
    "figname='./figs/zuv'+str(plevz)+'_global_climatology'\n",
    "fig.savefig(figname+'.png',bbox_inches='tight')\n",
    "\n",
    "plt.show()"
   ]
  },
  {
   "cell_type": "markdown",
   "metadata": {},
   "source": [
    "<div class=\"alert alert-warning\">\n",
    "<b>Questions : </b>\n",
    "<p><b>1) </b> Compléter le texte suivant énonçant la règle de Buys-Ballot : A grande échelle dans l’atmosphère, le vent horizontal est presque  ............ aux isohypses. Dans l’hémisphère Nord, il laisse les ............ géopotentiels sur sa gauche et les ............ géopotentiels sur sa droite. L’intensité du vent horizontal est d’autant plus ............ que la pente de la surface isobare est importante.</p>\n",
    "<p><b>2) </b> Sur quelle face des anticyclones subtropicaux soufflent les alizés (équatoriale ou polaire) ?</p>\n",
    "<p><b>3) </b> Décrire la circulation moyenne en basses couches et en altitude observée sur l'océan Indien nord et l'Inde en JJA. Comment se nomme ce phénomène ?</p>\n",
    "</div>"
   ]
  },
  {
   "cell_type": "markdown",
   "metadata": {},
   "source": [
    "<div class=\"alert alert-success\">\n",
    "<b>Réponses : </b>\n",
    "</div>"
   ]
  },
  {
   "cell_type": "markdown",
   "metadata": {},
   "source": [
    "<div class=\"alert alert-danger\">\n",
    "<b>Question : </b>\n",
    "<p><b>1) </b> En s'inspirant du code ci-dessus, proposer un code permettant le tracé de l'altitude géopotentielle et du module du vent horizontal à 200 hPa.</p>\n",
    "</div>"
   ]
  },
  {
   "cell_type": "raw",
   "metadata": {},
   "source": [
    "Carte globale isobare de la hauteur géopotentielle et du module du vent à 200 hPa (DJF, JJA)."
   ]
  },
  {
   "cell_type": "code",
   "execution_count": null,
   "metadata": {
    "scrolled": false
   },
   "outputs": [],
   "source": []
  },
  {
   "cell_type": "markdown",
   "metadata": {},
   "source": [
    "# Etude des champs d'humidité et précipitations\n",
    "\n",
    "L’humidité spécifique désigne la masse de vapeur d’eau contenu dans une unité de masse d’air humide. On exprime usuellement l’humidité spécifique en g/kg (grammes de vapeur d’eau par kilogrammes d’air humide). L’eau précipitable correspond à l’intégrale verticale de l’humidité spécifique. Cette grandeur permet d’avoir une mesure absolue du contenu en eau de l’atmosphère et correspond à la quantité d’eau recueillie si toute la vapeur d’eau d’une colonne d’atmosphère de base d’1 m2 condense. On l’exprime en kg/m² ou millimètres (1 mm = 1 litre d’eau par m²). Dans la troposphère, on trouve aussi de l’eau en phase liquide ou solide en suspension dans les nuages ou dans son trajet vers le sol (précipitations) : hydrométéores. Les précipitations désignent le flux d’eau sous forme liquide ou solide issu de la condensation de la vapeur d’eau dans l’atmosphère."
   ]
  },
  {
   "cell_type": "raw",
   "metadata": {},
   "source": [
    "Coupe verticale méridienne en moyenne zonale de l'humidité spécifique (DJF, JJA)."
   ]
  },
  {
   "cell_type": "code",
   "execution_count": null,
   "metadata": {
    "scrolled": false
   },
   "outputs": [],
   "source": [
    "fig, axarr = plt.subplots(nrows=2, ncols=1, figsize=(15, 15), constrained_layout=True)\n",
    "axlist = axarr.flatten()\n",
    "fig.suptitle('Specific humidity - zonal mean : '+year1+'-'+year2, fontsize=16)\n",
    "\n",
    "for i, ax in enumerate(axlist):\n",
    "    ax.set_title(seasons[i], fontsize=14)\n",
    "    ax.set_yscale('symlog')\n",
    "    ax.set_yticklabels(np.arange(1000, 300, -100))\n",
    "    ax.set_ylim(1000, 300)\n",
    "    ax.set_yticks(np.arange(1000, 300, -100))  \n",
    "    ax.set_xticklabels(np.arange(-90, 100, 10))\n",
    "    ax.set_xticks(np.arange(-90, 100, 10))    \n",
    "    cf = ax.contourf(lat, levq, qz[i,:,:], levels_qz, cmap='jet', extend='both')\n",
    "    c = ax.contour(lat, levq, qz[i,:,:], levels_qz, colors='black', linewidths=1)\n",
    "    plt.clabel(c, levels_qz, fmt='%2.1i')\n",
    " \n",
    "cf = fig.colorbar(cf, ax=axlist[axlist.shape[0]-1], orientation='horizontal', shrink=0.74, pad=0)\n",
    "cf.set_label('g/kg', size='small')\n",
    "\n",
    "fig.set_constrained_layout_pads(w_pad=0., h_pad=0.1, hspace=0., wspace=0.)\n",
    "\n",
    "\n",
    "figname='./figs/q_zmean_climatology'\n",
    "plt.savefig(figname+'.png',bbox_inches='tight')\n",
    "\n",
    "plt.show()"
   ]
  },
  {
   "cell_type": "markdown",
   "metadata": {},
   "source": [
    "<div class=\"alert alert-warning\">\n",
    "<b>Question : </b>\n",
    "<p><b>1) </b> Dans quelle partie de la troposphère et à quelles latitudes se situent principalement les maximas en vapeur d’eau ?</p>\n",
    "</div>"
   ]
  },
  {
   "cell_type": "markdown",
   "metadata": {},
   "source": [
    "<div class=\"alert alert-success\">\n",
    "<b>Réponse : </b>\n",
    "</div>"
   ]
  },
  {
   "cell_type": "raw",
   "metadata": {},
   "source": [
    "Carte globale de l'eau précipitable (DJF, JJA)."
   ]
  },
  {
   "cell_type": "code",
   "execution_count": null,
   "metadata": {
    "scrolled": false
   },
   "outputs": [],
   "source": [
    "axes_class = (GeoAxes, dict(map_projection=proj))\n",
    "fig = plt.figure(figsize=(15,15))\n",
    "fig.suptitle('Total Precipitable water (mm) : '+year1+'-'+year2, fontsize=16)\n",
    "\n",
    "axgr = AxesGrid(fig, 111, axes_class=axes_class,\n",
    "       nrows_ncols=(2, 1),\n",
    "       axes_pad=0.6,\n",
    "       cbar_location='right',\n",
    "       cbar_mode='single', # None/single/each\n",
    "       cbar_pad=0.2,\n",
    "       cbar_size='3%',\n",
    "       label_mode='')  # note the empty label_mode\n",
    "                   \n",
    "for i, ax in enumerate(axgr):\n",
    "    plot_background(ax)\n",
    "    ax.set_title(seasons[i], fontsize=14)\n",
    "    cf = ax.contourf(lon_pw, lat_pw, pw[i,:,:], levels_pw, transform=ccrs.PlateCarree(), cmap='jet', extend='both')\n",
    "    c = ax.contour(lon_pw, lat_pw, pw[i,:,:], levels_pw, colors='black', linewidths=0.2, transform=ccrs.PlateCarree())\n",
    "    axgr.cbar_axes[i].colorbar(cf)\n",
    "\n",
    "figname='./figs/pw_global_climatology'\n",
    "fig.savefig(figname+'.png',bbox_inches='tight')\n",
    "\n",
    "plt.show()"
   ]
  },
  {
   "cell_type": "markdown",
   "metadata": {},
   "source": [
    "<div class=\"alert alert-warning\">\n",
    "<b>Question : </b>\n",
    "<p><b>1) </b> Selon les saisons, localiser les principales zones de maxima/minima d'eau précipitable sur océan et sur continent.</p>\n",
    "</div>"
   ]
  },
  {
   "cell_type": "markdown",
   "metadata": {},
   "source": [
    "<div class=\"alert alert-success\">\n",
    "<b>Réponse : </b>\n",
    "</div>"
   ]
  },
  {
   "cell_type": "raw",
   "metadata": {},
   "source": [
    "Carte globale des precipitations (DJF, JJA)."
   ]
  },
  {
   "cell_type": "code",
   "execution_count": null,
   "metadata": {
    "scrolled": false
   },
   "outputs": [],
   "source": [
    "axes_class = (GeoAxes, dict(map_projection=proj))\n",
    "fig = plt.figure(figsize=(15,15))\n",
    "fig.suptitle('Precipitation (mm/day) : GPCP '+year1+'-'+year2, fontsize=16)\n",
    "\n",
    "axgr = AxesGrid(fig, 111, axes_class=axes_class,\n",
    "       nrows_ncols=(2, 1),\n",
    "       axes_pad=0.6,\n",
    "       cbar_location='right',\n",
    "       cbar_mode='single', # None/single/each\n",
    "       cbar_pad=0.2,\n",
    "       cbar_size='3%',\n",
    "       label_mode='')  # note the empty label_mode\n",
    "                   \n",
    "for i, ax in enumerate(axgr):\n",
    "    plot_background(ax)\n",
    "    ax.plot([0, 180], [0, 0] , color='k', linewidth=0.5, transform=ccrs.PlateCarree())\n",
    "    ax.plot([-180, 0], [0, 0] , color='k', linewidth=0.5, transform=ccrs.PlateCarree())\n",
    "    ax.set_title(seasons[i], fontsize=14)\n",
    "    cf = ax.contourf(lon_pr, lat_pr, pr[i,:,:], levels_pr, transform=ccrs.PlateCarree(), cmap='coolwarm', extend='both')\n",
    "    c = ax.contour(lon_pr, lat_pr, pr[i,:,:], levels_pr, colors='black', linewidths=0.2, transform=ccrs.PlateCarree())\n",
    "    axgr.cbar_axes[i].colorbar(cf)\n",
    "\n",
    "figname='./figs/precip_global_climatology'\n",
    "fig.savefig(figname+'.png',bbox_inches='tight')\n",
    "\n",
    "plt.show()"
   ]
  },
  {
   "cell_type": "markdown",
   "metadata": {},
   "source": [
    "<div class=\"alert alert-warning\">\n",
    "<b>Questions : </b>\n",
    "<p><b>1) </b> Selon les saisons, localiser les zones de précipitations les plus intenses.</p>\n",
    "<p><b>2) </b> Aux moyennes latitudes en quelle saison les précipitations sont-elles les plus importantes ?</p>\n",
    "</div>"
   ]
  },
  {
   "cell_type": "markdown",
   "metadata": {},
   "source": [
    "<div class=\"alert alert-success\">\n",
    "<b>Réponses : </b>\n",
    "</div>"
   ]
  },
  {
   "cell_type": "raw",
   "metadata": {},
   "source": [
    "Carte globale des precipitations (cartes mensuelles)."
   ]
  },
  {
   "cell_type": "code",
   "execution_count": null,
   "metadata": {
    "scrolled": false
   },
   "outputs": [],
   "source": [
    "for i in range(12): \n",
    "    #print(months[i])\n",
    "    fig = plt.figure(figsize=(15., 8.))\n",
    "    fig.suptitle('Precipitation (mm/day) : GPCP '+year1+'-'+year2, fontsize=16)\n",
    "    ax = fig.add_subplot(1, 1, 1, projection=proj)\n",
    "    ax.set_title(months[i], fontsize=14)\n",
    "    plot_background(ax)\n",
    "    ax.plot([0, 180], [0, 0] , color='k', linewidth=0.5, transform=ccrs.PlateCarree())\n",
    "    ax.plot([-180, 0], [0, 0] , color='k', linewidth=0.5, transform=ccrs.PlateCarree())\n",
    "    cf = ax.contourf(lon_pr, lat_pr, pr_month[i,:,:], levels_pr, transform=ccrs.PlateCarree(), cmap='coolwarm', extend='both')\n",
    "    c = ax.contour(lon_pr, lat_pr, pr_month[i,:,:], levels_pr, colors='black', linewidths=0.2, transform=ccrs.PlateCarree())\n",
    "    cb = fig.colorbar(cf, orientation='horizontal', extend='max', aspect=65, shrink=1, pad=0.15,extendrect='True')\n",
    "    cb.set_label('mm/day', size='small')\n",
    "\n",
    "    if i<10:\n",
    "        figname='./anim/precip_monclim_0'+str(i)\n",
    "    if i>=10:\n",
    "        figname='./anim/precip_monclim_'+str(i)    \n",
    "    fig.savefig(figname+'.png',bbox_inches='tight')\n",
    "    plt.show()"
   ]
  },
  {
   "cell_type": "raw",
   "metadata": {},
   "source": [
    "Fonction de création d'une animation à partir des png présents dans le dossier anim."
   ]
  },
  {
   "cell_type": "code",
   "execution_count": null,
   "metadata": {
    "scrolled": false
   },
   "outputs": [],
   "source": [
    "def make_animation():\n",
    "    nbimages=12\n",
    "    # create a tuple of display durations, one for each frame\n",
    "    first_last = 1000 #show the first and last frames for 100 ms\n",
    "    standard_duration = 1000 #show all other frames for 5 ms\n",
    "    durations = tuple([first_last] + [standard_duration] * (nbimages - 2) + [first_last])\n",
    "    # load all the static images into a list\n",
    "    images = [Image.open(image) for image in sorted(glob.glob('{}/*.png'.format('./anim/')))]\n",
    "    # save as an animated gif\n",
    "    gif = images[0]\n",
    "    gif.info['duration'] = durations #ms per frame\n",
    "    gif.info['loop'] = 0 #how many times to loop (0=infinite)\n",
    "    gif.save(fp=gif_filepath, format='gif', save_all=True, append_images=images[1:])\n",
    "    # verify that the number of frames in the gif equals the number of image files and durations\n",
    "    Image.open(gif_filepath).n_frames == len(images) == len(durations)\n",
    "    # clean png\n",
    "    os.chdir(\"./anim/\")\n",
    "    for f in glob.glob(\"*.png\"):\n",
    "        os.remove(f)\n",
    "    os.chdir(\"../\")\n",
    "    return Image"
   ]
  },
  {
   "cell_type": "raw",
   "metadata": {},
   "source": [
    "Réalisation de l'animation au pas de temps mensuel."
   ]
  },
  {
   "cell_type": "code",
   "execution_count": null,
   "metadata": {
    "scrolled": false
   },
   "outputs": [],
   "source": [
    "gif_filepath = './anim/precip_monclim.gif'\n",
    "make_animation()\n",
    "IPdisplay.Image(url=gif_filepath)"
   ]
  },
  {
   "cell_type": "markdown",
   "metadata": {},
   "source": [
    "# <span style='background :yellow' > Défi codage 1 (*) : précipitations en moyenne zonale </span>"
   ]
  },
  {
   "cell_type": "markdown",
   "metadata": {},
   "source": [
    "<div class=\"alert alert-danger\">\n",
    "Produire un graphique des précipitations en moyenne zonale en moyennes saisonnières (DJF-JJA-MAM-SON) et annuelle. On exploitera le tableau pr(season,lat,lon) qui contient les climatologies saisonnières globales des précipitations GPCP sur la période 1990-2019.\n",
    "</div>"
   ]
  },
  {
   "cell_type": "raw",
   "metadata": {},
   "source": [
    "Precipitations en moyenne zonale."
   ]
  },
  {
   "cell_type": "code",
   "execution_count": null,
   "metadata": {
    "scrolled": false
   },
   "outputs": [],
   "source": [
    "print(pr.shape)\n",
    "lats=pr.lat.values\n",
    "lons=pr.lon.values\n",
    "print(lats)\n",
    "print(lons)"
   ]
  },
  {
   "cell_type": "markdown",
   "metadata": {},
   "source": [
    "# <span style='background :yellow' > Défi codage 2 (*) : différences de précipitations </span>"
   ]
  },
  {
   "cell_type": "markdown",
   "metadata": {},
   "source": [
    "<div class=\"alert alert-danger\">\n",
    "Produire une carte en projection PlateCarree sur un domaine borné entre les latitudes 40S et 40N de la différence des précipitations entre la saison JJA et la saison DJF. Mettre en évidence les différences >6mm/jour et les différences inférieures à -6mm/jour. On exploitera le tableau pr(season,lat,lon) qui contient les climatologies saisonnières globales des précipitations GPCP sur la période 1990-2019. On utilisera la fonction plot_map(ax) pour le tracé du fond de carte.\n",
    "</div>"
   ]
  },
  {
   "cell_type": "raw",
   "metadata": {},
   "source": [
    "Fonction pour la carte 40S-40N."
   ]
  },
  {
   "cell_type": "code",
   "execution_count": null,
   "metadata": {
    "scrolled": false
   },
   "outputs": [],
   "source": [
    "def plot_map(ax):\n",
    "    bounds = [(0, 357.5, -40, 40)]\n",
    "    ax.set_xticks(np.linspace(-180, 180, 13), crs=ccrs.PlateCarree())\n",
    "    ax.set_yticks(np.linspace(-40, 40, 5), crs=ccrs.PlateCarree())\n",
    "    ax.axes.axis('tight')\n",
    "    lon_formatter = LongitudeFormatter(zero_direction_label=True)\n",
    "    lat_formatter = LatitudeFormatter()\n",
    "    ax.xaxis.set_major_formatter(lon_formatter)\n",
    "    ax.yaxis.set_major_formatter(lat_formatter)\n",
    "    ax.coastlines()\n",
    "    ax.plot([0, 180], [0, 0] , color='k', linewidth=0.5, transform=ccrs.PlateCarree())\n",
    "    ax.plot([-180, 0], [0, 0] , color='k', linewidth=0.5, transform=ccrs.PlateCarree())\n",
    "    ax.set_extent(*bounds, crs=ccrs.PlateCarree())\n",
    "    return ax"
   ]
  },
  {
   "cell_type": "raw",
   "metadata": {},
   "source": [
    "Carte de différence des precipitations : JJA -DJF"
   ]
  },
  {
   "cell_type": "code",
   "execution_count": null,
   "metadata": {
    "scrolled": false
   },
   "outputs": [],
   "source": [
    "print(pr.shape)\n",
    "lats=pr.lat.values\n",
    "lons=pr.lon.values\n",
    "print(lats)\n",
    "print(lons)"
   ]
  },
  {
   "cell_type": "markdown",
   "metadata": {},
   "source": [
    "# <span style='background :yellow' > Défi codage 3 (**) : cycle annuel de la ZCIT par secteur </span>"
   ]
  },
  {
   "cell_type": "markdown",
   "metadata": {},
   "source": [
    "<div class=\"alert alert-danger\">\n",
    "Produire un graphique similaire à la figure ci-dessous permettant d'étudier le cycle annuel moyen des précipitations dans 8 secteurs de longitudes différents\n",
    "<img src=\"zcit.png\" width=\"500\"/>\n",
    "\n",
    "## Indications\n",
    "\n",
    "On exploitera le Dataset fpr qui contient les séries mensuelles globales des précipitations GPCP sur la période 1990-2019 (variable precip). On utilisera aussi les méthodes groupby, sel et mean pour calculer les climatologies mensuelles et sélectionner les domaines de latitudes et longitudes. Compte tenu que les longitudes sont des 0 à 360 on choisira ici les bornes de latitudes et longitudes suivantes :\n",
    "\n",
    "- Latitudes : 30S à 30N \n",
    "\n",
    "- Afrique : longitudes 10 à 40\n",
    "- Indien : longitudes 60 à 100\n",
    "- Pacifique ouest : longitudes 110 à 150\n",
    "- Pacifique central : longitudes 160 à 200\n",
    "- Pacifique est : longitudes 220 à 260\n",
    "- Amerique centrale et du sud : longitudes 285 à 315\n",
    "- Atlantique : longitudes 320 à 350\n",
    "    \n",
    "</div>"
   ]
  },
  {
   "cell_type": "raw",
   "metadata": {},
   "source": [
    "cycle annuel moyen de la ZCIT dans 8 secteurs de longitudes différents."
   ]
  },
  {
   "cell_type": "code",
   "execution_count": null,
   "metadata": {
    "scrolled": false
   },
   "outputs": [],
   "source": [
    "print(fpr)\n",
    "fpr_africa=fpr.groupby('time.month').mean('time').sel(lat=slice(-30,30)).sel(lon=slice(10,40)).mean('lon')\n",
    "pr_africa=fpr_africa['precip']\n",
    "lats=fpr_africa.lat.values\n",
    "print(pr_africa.shape)"
   ]
  },
  {
   "cell_type": "markdown",
   "metadata": {},
   "source": [
    "<div class=\"alert alert-warning\">\n",
    "<b>Questions : </b>\n",
    "<p><b>1) </b> Dans quels secteurs la Zone de convergence Inter tropicale (ZCIT) est-elle la plus large ?</p>\n",
    "<p><b>2) </b> Dans quels bassins océaniques la ZCIT est-elle quasi-exclusivement localisée dans l'hémisphère nord ?</p>\n",
    "</div>"
   ]
  },
  {
   "cell_type": "markdown",
   "metadata": {},
   "source": [
    "<div class=\"alert alert-success\">\n",
    "<b>Réponses : </b>\n",
    "</div>"
   ]
  },
  {
   "cell_type": "markdown",
   "metadata": {},
   "source": [
    "# <span style='background :yellow' > Défi codage 4 (*) : vent zonal dans la stratosphère équatoriale </span>"
   ]
  },
  {
   "cell_type": "markdown",
   "metadata": {},
   "source": [
    "<div class=\"alert alert-danger\">\n",
    "Produire un graphique de l'évolution du vent zonal dans la stratosphère (entre 70hPa et 10hPa) au dessus de l'équateur. On exploitera le Dataset fu qui contient les séries mensuelles globales de vent zonal sur la période 1990-2019 (variale uwnd). On utilisera aussi les méthodes sel et mean pour sélectionner la latitude et effectuer la moyenne zonale.\n",
    "</div>"
   ]
  },
  {
   "cell_type": "raw",
   "metadata": {},
   "source": [
    "Zoom sur le vent zonal équatorial (QBO)"
   ]
  },
  {
   "cell_type": "code",
   "execution_count": null,
   "metadata": {},
   "outputs": [],
   "source": [
    "print(fu)"
   ]
  },
  {
   "cell_type": "markdown",
   "metadata": {},
   "source": [
    "<div class=\"alert alert-warning\">\n",
    "<b>Question : </b>\n",
    "<p><b>1) </b> Quel phénomène observe-t-on dans la stratosphère équatoriale ?</p>\n",
    "</div>"
   ]
  },
  {
   "cell_type": "markdown",
   "metadata": {},
   "source": [
    "<div class=\"alert alert-success\">\n",
    "<b>Réponse : </b>\n",
    "</div>"
   ]
  }
 ],
 "metadata": {
  "kernelspec": {
   "display_name": "Python 3",
   "language": "python",
   "name": "python3"
  },
  "language_info": {
   "codemirror_mode": {
    "name": "ipython",
    "version": 3
   },
   "file_extension": ".py",
   "mimetype": "text/x-python",
   "name": "python",
   "nbconvert_exporter": "python",
   "pygments_lexer": "ipython3",
   "version": "3.7.11"
  }
 },
 "nbformat": 4,
 "nbformat_minor": 1
}
